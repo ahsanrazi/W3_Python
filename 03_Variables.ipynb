{
  "nbformat": 4,
  "nbformat_minor": 0,
  "metadata": {
    "colab": {
      "provenance": [],
      "authorship_tag": "ABX9TyP0aigUjt2GOMlWGTUuDuCO",
      "include_colab_link": true
    },
    "kernelspec": {
      "name": "python3",
      "display_name": "Python 3"
    },
    "language_info": {
      "name": "python"
    }
  },
  "cells": [
    {
      "cell_type": "markdown",
      "metadata": {
        "id": "view-in-github",
        "colab_type": "text"
      },
      "source": [
        "<a href=\"https://colab.research.google.com/github/ahsanrazi/W3_Python/blob/main/03_Variables.ipynb\" target=\"_parent\"><img src=\"https://colab.research.google.com/assets/colab-badge.svg\" alt=\"Open In Colab\"/></a>"
      ]
    },
    {
      "cell_type": "markdown",
      "source": [
        "# Variables"
      ],
      "metadata": {
        "id": "7EJB_NvzU0oF"
      }
    },
    {
      "cell_type": "code",
      "execution_count": 1,
      "metadata": {
        "id": "FJLNCGZIUgKv"
      },
      "outputs": [],
      "source": [
        "# Variables are containers for storing data values."
      ]
    },
    {
      "cell_type": "code",
      "source": [
        "# Python has no command for declaring a variable.\n",
        "# A variable is created the moment we first assign a value to it.\n",
        "\n",
        "x = 5\n",
        "y = \"John\"\n",
        "print(x)\n",
        "print(y)"
      ],
      "metadata": {
        "colab": {
          "base_uri": "https://localhost:8080/"
        },
        "id": "uEvbA4eBU4n6",
        "outputId": "37ffa91a-ab78-4987-b9eb-035786b82cbe"
      },
      "execution_count": 2,
      "outputs": [
        {
          "output_type": "stream",
          "name": "stdout",
          "text": [
            "5\n",
            "John\n"
          ]
        }
      ]
    },
    {
      "cell_type": "code",
      "source": [
        "# Variables do not need to be declared with any particular type, and can even change type after they have been set.\n",
        "\n",
        "x = 4       # x is of type int\n",
        "print(x)\n",
        "x = \"Sally\" # x is now of type str\n",
        "print(x)"
      ],
      "metadata": {
        "colab": {
          "base_uri": "https://localhost:8080/"
        },
        "id": "i0CF6ufIVMx0",
        "outputId": "5f996a2d-0517-4aa0-e88a-3c252aae739c"
      },
      "execution_count": 4,
      "outputs": [
        {
          "output_type": "stream",
          "name": "stdout",
          "text": [
            "4\n",
            "Sally\n"
          ]
        }
      ]
    },
    {
      "cell_type": "markdown",
      "source": [
        "# Casting"
      ],
      "metadata": {
        "id": "IFdk1ZH1V-Uf"
      }
    },
    {
      "cell_type": "code",
      "source": [
        "# If we want to specify the data type of a variable, this can be done with casting.\n",
        "\n",
        "x = str(3)    # x will be '3'\n",
        "y = int(3)    # y will be 3\n",
        "z = float(3)  # z will be 3.0"
      ],
      "metadata": {
        "id": "GKjpGGZYVi-5"
      },
      "execution_count": 5,
      "outputs": []
    },
    {
      "cell_type": "markdown",
      "source": [
        "# Get the Type"
      ],
      "metadata": {
        "id": "vmndsstoWSFx"
      }
    },
    {
      "cell_type": "code",
      "source": [
        "# We can get the data type of a variable with the type() function.\n",
        "\n",
        "x = 5\n",
        "y = \"John\"\n",
        "print(type(x))\n",
        "print(type(y))"
      ],
      "metadata": {
        "colab": {
          "base_uri": "https://localhost:8080/"
        },
        "id": "YKIeFyU4WKlW",
        "outputId": "d99f08ee-122b-4de9-84a3-c0c67bca026e"
      },
      "execution_count": 6,
      "outputs": [
        {
          "output_type": "stream",
          "name": "stdout",
          "text": [
            "<class 'int'>\n",
            "<class 'str'>\n"
          ]
        }
      ]
    },
    {
      "cell_type": "code",
      "source": [
        "# String variables can be declared either by using single or double quotes.\n",
        "\n",
        "x = \"John\"\n",
        "# is the same as\n",
        "x = 'John'"
      ],
      "metadata": {
        "id": "tja5HrAWWbt7"
      },
      "execution_count": 7,
      "outputs": []
    },
    {
      "cell_type": "markdown",
      "source": [
        "# Case-Sensitive"
      ],
      "metadata": {
        "id": "vgb4Xw0HWxj6"
      }
    },
    {
      "cell_type": "code",
      "source": [
        "# Variable names are case-sensitive.\n",
        "\n",
        "a = 4\n",
        "A = \"Sally\"\n",
        "\n",
        "# A will not overwrite a"
      ],
      "metadata": {
        "id": "ZMNa0fsHWs_p"
      },
      "execution_count": 9,
      "outputs": []
    },
    {
      "cell_type": "markdown",
      "source": [
        "# Variable Names"
      ],
      "metadata": {
        "id": "7eJgtPGSXGVn"
      }
    },
    {
      "cell_type": "code",
      "source": [
        "# A variable can have a short name (like x and y) or a more descriptive name (age, carname, total_volume).\n",
        "\n",
        "# Rules for Python variables:\n",
        "# A variable name must start with a letter or the underscore character.\n",
        "# A variable name cannot start with a number.\n",
        "# A variable name can only contain alpha-numeric characters and underscores (A-z, 0-9, and _ ).\n",
        "# Variable names are case-sensitive (age, Age and AGE are three different variables).\n",
        "# A variable name cannot be any of the Python keywords."
      ],
      "metadata": {
        "id": "RQHMShWVW7rx"
      },
      "execution_count": 10,
      "outputs": []
    },
    {
      "cell_type": "code",
      "source": [
        "# Legal variable names:\n",
        "\n",
        "myvar = \"John\"\n",
        "my_var = \"John\"\n",
        "_my_var = \"John\"\n",
        "myVar = \"John\"\n",
        "MYVAR = \"John\"\n",
        "myvar2 = \"John\""
      ],
      "metadata": {
        "id": "WJE1H64PXhhR"
      },
      "execution_count": 11,
      "outputs": []
    },
    {
      "cell_type": "code",
      "source": [
        "# Illegal variable names:\n",
        "\n",
        "2myvar = \"John\"\n",
        "my-var = \"John\"\n",
        "my var = \"John\""
      ],
      "metadata": {
        "id": "bbj9pwiGXm2b"
      },
      "execution_count": 12,
      "outputs": []
    },
    {
      "cell_type": "markdown",
      "source": [
        "# Multi Words Variable Names"
      ],
      "metadata": {
        "id": "gbu8eRaVXzpa"
      }
    },
    {
      "cell_type": "code",
      "source": [
        "# Variable names with more than one word can be difficult to read. There are several techniques you can use to make them more readable."
      ],
      "metadata": {
        "id": "qk_FZ6YdXqSn"
      },
      "execution_count": 13,
      "outputs": []
    },
    {
      "cell_type": "markdown",
      "source": [
        "### Camel Case"
      ],
      "metadata": {
        "id": "0d5Dx51QYCAW"
      }
    },
    {
      "cell_type": "code",
      "source": [
        "# Each word, except the first, starts with a capital letter.\n",
        "\n",
        "myVariableName = \"John\""
      ],
      "metadata": {
        "id": "M-h3rpQRYAYV"
      },
      "execution_count": 14,
      "outputs": []
    },
    {
      "cell_type": "markdown",
      "source": [
        "### Pascal Case"
      ],
      "metadata": {
        "id": "E1ewcI54YWG4"
      }
    },
    {
      "cell_type": "code",
      "source": [
        "# Each word starts with a capital letter.\n",
        "\n",
        "MyVariableName = \"John\""
      ],
      "metadata": {
        "id": "UWZpI58pYUyq"
      },
      "execution_count": 15,
      "outputs": []
    },
    {
      "cell_type": "markdown",
      "source": [
        "### Snake Case"
      ],
      "metadata": {
        "id": "XwkGjah7YkKv"
      }
    },
    {
      "cell_type": "code",
      "source": [
        "# Each word is separated by an underscore character\n",
        "\n",
        "my_variable_name = \"John\""
      ],
      "metadata": {
        "id": "c-0rTZ4oYfWE"
      },
      "execution_count": 16,
      "outputs": []
    },
    {
      "cell_type": "markdown",
      "source": [
        "# Assign Multiple Values"
      ],
      "metadata": {
        "id": "k2pD2JYpYwtC"
      }
    },
    {
      "cell_type": "markdown",
      "source": [
        "### Many Values to Multiple Variables"
      ],
      "metadata": {
        "id": "KoSWB3CjZHy9"
      }
    },
    {
      "cell_type": "code",
      "source": [
        "# Python allows us to assign values to multiple variables in one line.\n",
        "\n",
        "x, y, z = \"Orange\", \"Banana\", \"Cherry\"\n",
        "print(x)\n",
        "print(y)\n",
        "print(z)\n",
        "\n",
        "# Make sure the number of variables matches the number of values, or else you will get an error."
      ],
      "metadata": {
        "colab": {
          "base_uri": "https://localhost:8080/"
        },
        "id": "HgyOc4duYrNg",
        "outputId": "d36aedab-1bb6-4b29-de36-6ea85bca3310"
      },
      "execution_count": 17,
      "outputs": [
        {
          "output_type": "stream",
          "name": "stdout",
          "text": [
            "Orange\n",
            "Banana\n",
            "Cherry\n"
          ]
        }
      ]
    },
    {
      "cell_type": "markdown",
      "source": [
        "### One Value to Multiple Variables"
      ],
      "metadata": {
        "id": "usBy5uScZT5e"
      }
    },
    {
      "cell_type": "code",
      "source": [
        "# And we can assign the same value to multiple variables in one line.\n",
        "\n",
        "x = y = z = \"Orange\"\n",
        "print(x)\n",
        "print(y)\n",
        "print(z)"
      ],
      "metadata": {
        "colab": {
          "base_uri": "https://localhost:8080/"
        },
        "id": "vVxoJ338Y-b-",
        "outputId": "01252490-ab08-468b-d6ad-7adb65d88331"
      },
      "execution_count": 18,
      "outputs": [
        {
          "output_type": "stream",
          "name": "stdout",
          "text": [
            "Orange\n",
            "Orange\n",
            "Orange\n"
          ]
        }
      ]
    },
    {
      "cell_type": "markdown",
      "source": [
        "# Unpack a Collection"
      ],
      "metadata": {
        "id": "jaVLYO-kZwgr"
      }
    },
    {
      "cell_type": "code",
      "source": [
        "# If we have a collection of values in a list, tuple etc. Python allows us to extract the values into variables. This is called unpacking.\n",
        "\n",
        "fruits = [\"apple\", \"banana\", \"cherry\"]\n",
        "x, y, z = fruits\n",
        "print(x)\n",
        "print(y)\n",
        "print(z)"
      ],
      "metadata": {
        "colab": {
          "base_uri": "https://localhost:8080/"
        },
        "id": "udipi98pZqFZ",
        "outputId": "2b801b7d-b055-45f9-c698-692dc8fa6f70"
      },
      "execution_count": 20,
      "outputs": [
        {
          "output_type": "stream",
          "name": "stdout",
          "text": [
            "apple\n",
            "banana\n",
            "cherry\n"
          ]
        }
      ]
    },
    {
      "cell_type": "markdown",
      "source": [
        "# Output Variables"
      ],
      "metadata": {
        "id": "4HCgIvCaaS3O"
      }
    },
    {
      "cell_type": "code",
      "source": [
        "#The Python print() function is often used to output variables.\n",
        "\n",
        "x = \"Python is awesome\"\n",
        "print(x)"
      ],
      "metadata": {
        "colab": {
          "base_uri": "https://localhost:8080/"
        },
        "id": "cEsyNa6paDPX",
        "outputId": "40c8cdc9-1a1f-4dae-cae0-f36f8aaeedce"
      },
      "execution_count": 21,
      "outputs": [
        {
          "output_type": "stream",
          "name": "stdout",
          "text": [
            "Python is awesome\n"
          ]
        }
      ]
    },
    {
      "cell_type": "code",
      "source": [
        "# In the print() function, we output multiple variables, separated by a comma.\n",
        "\n",
        "x = \"Python\"\n",
        "y = \"is\"\n",
        "z = \"awesome\"\n",
        "print(x, y, z)"
      ],
      "metadata": {
        "colab": {
          "base_uri": "https://localhost:8080/"
        },
        "id": "_eh1QojvaZFo",
        "outputId": "257b18b1-04a3-4665-a1cc-86065dbf7a1b"
      },
      "execution_count": 33,
      "outputs": [
        {
          "output_type": "stream",
          "name": "stdout",
          "text": [
            "Python is awesome\n"
          ]
        }
      ]
    },
    {
      "cell_type": "code",
      "source": [
        "# We can also use the (+) operator to output multiple variables.\n",
        "\n",
        "x = \"Python \"\n",
        "y = \"is \"\n",
        "z = \"awesome\"\n",
        "print(x + y + z)\n",
        "\n",
        "# Notice the space character after \"Python \" and \"is \", without them the result would be \"Pythonisawesome\"."
      ],
      "metadata": {
        "colab": {
          "base_uri": "https://localhost:8080/"
        },
        "id": "C81nAMXpajHe",
        "outputId": "c11de872-cc28-4f2f-aa4c-0fc3dc307358"
      },
      "execution_count": 31,
      "outputs": [
        {
          "output_type": "stream",
          "name": "stdout",
          "text": [
            "Python is awesome\n"
          ]
        }
      ]
    },
    {
      "cell_type": "code",
      "source": [
        "# For numbers, the (+) character works as a mathematical operator.\n",
        "\n",
        "x = 5\n",
        "y = 10\n",
        "print(x + y)"
      ],
      "metadata": {
        "colab": {
          "base_uri": "https://localhost:8080/"
        },
        "id": "1E3_iLC9a3QB",
        "outputId": "b5bfb00f-7f03-49e9-9434-f551fddafcc6"
      },
      "execution_count": 34,
      "outputs": [
        {
          "output_type": "stream",
          "name": "stdout",
          "text": [
            "15\n"
          ]
        }
      ]
    },
    {
      "cell_type": "code",
      "source": [
        "# In the print() function, when we try to combine a string and a number with the + operator, Python will give us an error.\n",
        "\n",
        "x = 5\n",
        "y = \"John\"\n",
        "print(x + y)"
      ],
      "metadata": {
        "colab": {
          "base_uri": "https://localhost:8080/",
          "height": 176
        },
        "id": "_WfNddLKbbns",
        "outputId": "5e793614-dbe7-46fe-915b-f73268da5bd0"
      },
      "execution_count": 35,
      "outputs": [
        {
          "output_type": "error",
          "ename": "TypeError",
          "evalue": "unsupported operand type(s) for +: 'int' and 'str'",
          "traceback": [
            "\u001b[0;31m---------------------------------------------------------------------------\u001b[0m",
            "\u001b[0;31mTypeError\u001b[0m                                 Traceback (most recent call last)",
            "\u001b[0;32m<ipython-input-35-04c20bc1cf82>\u001b[0m in \u001b[0;36m<cell line: 0>\u001b[0;34m()\u001b[0m\n\u001b[1;32m      3\u001b[0m \u001b[0mx\u001b[0m \u001b[0;34m=\u001b[0m \u001b[0;36m5\u001b[0m\u001b[0;34m\u001b[0m\u001b[0;34m\u001b[0m\u001b[0m\n\u001b[1;32m      4\u001b[0m \u001b[0my\u001b[0m \u001b[0;34m=\u001b[0m \u001b[0;34m\"John\"\u001b[0m\u001b[0;34m\u001b[0m\u001b[0;34m\u001b[0m\u001b[0m\n\u001b[0;32m----> 5\u001b[0;31m \u001b[0mprint\u001b[0m\u001b[0;34m(\u001b[0m\u001b[0mx\u001b[0m \u001b[0;34m+\u001b[0m \u001b[0my\u001b[0m\u001b[0;34m)\u001b[0m\u001b[0;34m\u001b[0m\u001b[0;34m\u001b[0m\u001b[0m\n\u001b[0m",
            "\u001b[0;31mTypeError\u001b[0m: unsupported operand type(s) for +: 'int' and 'str'"
          ]
        }
      ]
    },
    {
      "cell_type": "code",
      "source": [
        "# The best way to output multiple variables in the print() function is to separate them with commas, which even support different data types\n",
        "\n",
        "x = 5\n",
        "y = \"John\"\n",
        "print(x, y)"
      ],
      "metadata": {
        "colab": {
          "base_uri": "https://localhost:8080/"
        },
        "id": "93lw9kWxbnhd",
        "outputId": "b86f882c-ef02-4876-fddd-d8a4f060c6dd"
      },
      "execution_count": 36,
      "outputs": [
        {
          "output_type": "stream",
          "name": "stdout",
          "text": [
            "5 John\n"
          ]
        }
      ]
    },
    {
      "cell_type": "markdown",
      "source": [
        "# Global Variables"
      ],
      "metadata": {
        "id": "tXDGhVjicQjV"
      }
    },
    {
      "cell_type": "code",
      "source": [
        "# Variables that are created outside of a function (as in all of the examples above) are known as global variables.\n",
        "\n",
        "# Global variables can be used by everyone, both inside of functions and outside."
      ],
      "metadata": {
        "id": "nJfog7mvbxNW"
      },
      "execution_count": 39,
      "outputs": []
    },
    {
      "cell_type": "code",
      "source": [
        "# Create a variable outside of a function, and use it inside the function\n",
        "\n",
        "x = \"awesome\"\n",
        "\n",
        "def myfunc():\n",
        "  print(\"Python is \" + x)\n",
        "\n",
        "myfunc()"
      ],
      "metadata": {
        "colab": {
          "base_uri": "https://localhost:8080/"
        },
        "id": "ojXqxam9cdsF",
        "outputId": "5a574726-dd27-4020-c6c5-15e274d15b33"
      },
      "execution_count": 40,
      "outputs": [
        {
          "output_type": "stream",
          "name": "stdout",
          "text": [
            "Python is awesome\n"
          ]
        }
      ]
    },
    {
      "cell_type": "code",
      "source": [
        "# If we create a variable with the same name inside a function, this variable will be local, and can only be used inside the function.\n",
        "# The global variable with the same name will remain as it was, global and with the original value."
      ],
      "metadata": {
        "id": "FsdNCZ1Acior"
      },
      "execution_count": 41,
      "outputs": []
    },
    {
      "cell_type": "code",
      "source": [
        "# Create a variable inside a function, with the same name as the global variable.\n",
        "\n",
        "x = \"awesome\"\n",
        "\n",
        "def myfunc():\n",
        "  x = \"fantastic\"\n",
        "  print(\"Python is \" + x)\n",
        "\n",
        "myfunc()\n",
        "\n",
        "print(\"Python is \" + x)"
      ],
      "metadata": {
        "colab": {
          "base_uri": "https://localhost:8080/"
        },
        "id": "Q6SZs3FtdJSw",
        "outputId": "9a8219a0-0f61-4f70-c50e-e9efd4a988f3"
      },
      "execution_count": 42,
      "outputs": [
        {
          "output_type": "stream",
          "name": "stdout",
          "text": [
            "Python is fantastic\n",
            "Python is awesome\n"
          ]
        }
      ]
    },
    {
      "cell_type": "markdown",
      "source": [
        "# global Keyword"
      ],
      "metadata": {
        "id": "fUDtkLmBdV6H"
      }
    },
    {
      "cell_type": "code",
      "source": [
        "# Normally, when we create a variable inside a function, that variable is local, and can only be used inside that function.\n",
        "# To create a global variable inside a function, you can use the (global keyword)."
      ],
      "metadata": {
        "id": "Fzxk8tgxdPqD"
      },
      "execution_count": 43,
      "outputs": []
    },
    {
      "cell_type": "code",
      "source": [
        "# If we use the (global keyword), the variable belongs to the global scope.\n",
        "\n",
        "def myfunc():\n",
        "  global x\n",
        "  x = \"fantastic\"\n",
        "\n",
        "myfunc()\n",
        "\n",
        "print(\"Python is \" + x)"
      ],
      "metadata": {
        "colab": {
          "base_uri": "https://localhost:8080/"
        },
        "id": "BWyGv7yfdpYt",
        "outputId": "319dee9e-f30a-481d-ddbb-525e3231bfdd"
      },
      "execution_count": 44,
      "outputs": [
        {
          "output_type": "stream",
          "name": "stdout",
          "text": [
            "Python is fantastic\n"
          ]
        }
      ]
    },
    {
      "cell_type": "code",
      "source": [
        "# Also, use the global keyword if we want to change a global variable inside a function.\n",
        "\n",
        "# To change the value of a global variable inside a function, refer to the variable by using the (global keyword).\n",
        "\n",
        "x = \"awesome\"\n",
        "\n",
        "def myfunc():\n",
        "  global x\n",
        "  x = \"fantastic\"\n",
        "\n",
        "myfunc()\n",
        "\n",
        "print(\"Python is \" + x)"
      ],
      "metadata": {
        "colab": {
          "base_uri": "https://localhost:8080/"
        },
        "id": "ER3wwJ-jdyyw",
        "outputId": "3c9e80e0-d5d3-4c91-8794-81f549fbeb0c"
      },
      "execution_count": 45,
      "outputs": [
        {
          "output_type": "stream",
          "name": "stdout",
          "text": [
            "Python is fantastic\n"
          ]
        }
      ]
    }
  ]
}