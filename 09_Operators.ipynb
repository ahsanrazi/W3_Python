{
  "nbformat": 4,
  "nbformat_minor": 0,
  "metadata": {
    "colab": {
      "provenance": [],
      "authorship_tag": "ABX9TyPTmTImef/53E0oztB9RrO7",
      "include_colab_link": true
    },
    "kernelspec": {
      "name": "python3",
      "display_name": "Python 3"
    },
    "language_info": {
      "name": "python"
    }
  },
  "cells": [
    {
      "cell_type": "markdown",
      "metadata": {
        "id": "view-in-github",
        "colab_type": "text"
      },
      "source": [
        "<a href=\"https://colab.research.google.com/github/ahsanrazi/W3_Python/blob/main/09_Operators.ipynb\" target=\"_parent\"><img src=\"https://colab.research.google.com/assets/colab-badge.svg\" alt=\"Open In Colab\"/></a>"
      ]
    },
    {
      "cell_type": "markdown",
      "source": [
        "# Operators"
      ],
      "metadata": {
        "id": "Ptt31nM3Nlu4"
      }
    },
    {
      "cell_type": "code",
      "execution_count": null,
      "metadata": {
        "colab": {
          "base_uri": "https://localhost:8080/"
        },
        "id": "XO3VF0s7NfAC",
        "outputId": "70c4a4c7-11a9-4881-df4b-7327eca06d67"
      },
      "outputs": [
        {
          "output_type": "stream",
          "name": "stdout",
          "text": [
            "15\n"
          ]
        }
      ],
      "source": [
        "# Operators are used to perform operations on variables and values.\n",
        "\n",
        "print(10 + 5)"
      ]
    },
    {
      "cell_type": "code",
      "source": [
        "# Python divides the operators in the following groups:\n",
        "\n",
        "# Arithmetic operators\n",
        "# Assignment operators\n",
        "# Comparison operators\n",
        "# Logical operators\n",
        "# Identity operators\n",
        "# Membership operators\n",
        "# Bitwise operators"
      ],
      "metadata": {
        "id": "OWYcpleiODDe"
      },
      "execution_count": null,
      "outputs": []
    },
    {
      "cell_type": "markdown",
      "source": [
        "# Arithmetic Operators"
      ],
      "metadata": {
        "id": "R8vF_cE6OPS1"
      }
    },
    {
      "cell_type": "code",
      "source": [
        "# Arithmetic operators are used with numeric values to perform common mathematical operations.\n",
        "\n",
        "# Operator\t           Name\t               Example\n",
        "# +\t                   Addition\t           x + y\n",
        "# -\t                   Subtraction\t       x - y\n",
        "# *\t                   Multiplication\t     x * y\n",
        "# /\t                   Division\t           x / y\n",
        "# %\t                   Modulus\t           x % y\n",
        "# **\t                 Exponentiation\t     x ** y\n",
        "# //\t                 Floor division\t     x // y"
      ],
      "metadata": {
        "id": "XowM44daOQBK"
      },
      "execution_count": null,
      "outputs": []
    },
    {
      "cell_type": "code",
      "source": [
        "# +\t                   Addition\t           x + y\n",
        "\n",
        "x = 5\n",
        "y = 3\n",
        "\n",
        "print(x + y)"
      ],
      "metadata": {
        "colab": {
          "base_uri": "https://localhost:8080/"
        },
        "id": "p2GSmCPLPD8U",
        "outputId": "1cd8ae69-1677-4907-a10e-a97fbaef893e"
      },
      "execution_count": null,
      "outputs": [
        {
          "output_type": "stream",
          "name": "stdout",
          "text": [
            "8\n"
          ]
        }
      ]
    },
    {
      "cell_type": "code",
      "source": [
        "# -\t                   Subtraction\t       x - y\n",
        "\n",
        "x = 5\n",
        "y = 3\n",
        "\n",
        "print(x - y)"
      ],
      "metadata": {
        "colab": {
          "base_uri": "https://localhost:8080/"
        },
        "id": "0kTZfR-cPJqb",
        "outputId": "612f6b2e-0111-4105-bb59-8cf707a35bd0"
      },
      "execution_count": null,
      "outputs": [
        {
          "output_type": "stream",
          "name": "stdout",
          "text": [
            "2\n"
          ]
        }
      ]
    },
    {
      "cell_type": "code",
      "source": [
        "# *\t                   Multiplication\t     x * y\n",
        "\n",
        "x = 5\n",
        "y = 3\n",
        "\n",
        "print(x * y)"
      ],
      "metadata": {
        "colab": {
          "base_uri": "https://localhost:8080/"
        },
        "id": "Mfy7oW9KPLoK",
        "outputId": "888397ef-99ab-47ba-dc92-72d4a02c8a1a"
      },
      "execution_count": null,
      "outputs": [
        {
          "output_type": "stream",
          "name": "stdout",
          "text": [
            "15\n"
          ]
        }
      ]
    },
    {
      "cell_type": "code",
      "source": [
        "# /\t                   Division\t           x / y\n",
        "\n",
        "x = 12\n",
        "y = 3\n",
        "\n",
        "print(x / y)"
      ],
      "metadata": {
        "colab": {
          "base_uri": "https://localhost:8080/"
        },
        "id": "eVcRfdjbPNZW",
        "outputId": "5775ac4a-86c7-451d-9aeb-ab11aa5a071a"
      },
      "execution_count": null,
      "outputs": [
        {
          "output_type": "stream",
          "name": "stdout",
          "text": [
            "4.0\n"
          ]
        }
      ]
    },
    {
      "cell_type": "code",
      "source": [
        "# %\t                   Modulus\t           x % y\n",
        "\n",
        "x = 5\n",
        "y = 2\n",
        "\n",
        "print(x % y)\n",
        "# the modulus operator gives the remainder value as a result"
      ],
      "metadata": {
        "colab": {
          "base_uri": "https://localhost:8080/"
        },
        "id": "5SBlkiWjPPlC",
        "outputId": "82890be9-88a7-453d-99b8-b23834c7a6fb"
      },
      "execution_count": null,
      "outputs": [
        {
          "output_type": "stream",
          "name": "stdout",
          "text": [
            "1\n"
          ]
        }
      ]
    },
    {
      "cell_type": "code",
      "source": [
        "# **\t                 Exponentiation\t     x ** y\n",
        "\n",
        "x = 2\n",
        "y = 5\n",
        "\n",
        "print(x ** y) #same as 2*2*2*2*2"
      ],
      "metadata": {
        "colab": {
          "base_uri": "https://localhost:8080/"
        },
        "id": "vCsR9T2VPRqm",
        "outputId": "7a7f1f53-8b20-4194-e4cd-4d891dc46ea8"
      },
      "execution_count": null,
      "outputs": [
        {
          "output_type": "stream",
          "name": "stdout",
          "text": [
            "32\n"
          ]
        }
      ]
    },
    {
      "cell_type": "code",
      "source": [
        "# //\t                 Floor division\t     x // y\n",
        "\n",
        "x = 15\n",
        "y = 2\n",
        "\n",
        "print(x // y)\n",
        "\n",
        "# the floor division // rounds the result down to the nearest whole number"
      ],
      "metadata": {
        "colab": {
          "base_uri": "https://localhost:8080/"
        },
        "id": "T7j5zU44PUZZ",
        "outputId": "3295fbad-c404-492c-e145-57e9fa645412"
      },
      "execution_count": null,
      "outputs": [
        {
          "output_type": "stream",
          "name": "stdout",
          "text": [
            "7\n"
          ]
        }
      ]
    },
    {
      "cell_type": "markdown",
      "source": [
        "# Assignment Operators"
      ],
      "metadata": {
        "id": "cQcfo_MqQcRt"
      }
    },
    {
      "cell_type": "code",
      "source": [
        "# Assignment operators are used to assign values to variables.\n",
        "\n",
        "# Operator\t               Example\t          Same As\n",
        "# =\t                       x = 5\t            x = 5\n",
        "# +=\t                     x += 3\t            x = x + 3\n",
        "# -=\t                     x -= 3\t            x = x - 3\n",
        "# *=\t                     x *= 3\t            x = x * 3\n",
        "# /=\t                     x /= 3\t            x = x / 3\n",
        "# %=\t                     x %= 3\t            x = x % 3\n",
        "# //=\t                     x //= 3\t          x = x // 3\n",
        "# **=\t                     x **= 3\t          x = x ** 3\n",
        "# &=\t                     x &= 3\t            x = x & 3\n",
        "# |=\t                     x |= 3\t            x = x | 3\n",
        "# ^=\t                     x ^= 3\t            x = x ^ 3\n",
        "# >>=\t                     x >>= 3\t          x = x >> 3\n",
        "# <<=\t                     x <<= 3\t          x = x << 3\n",
        "# :=\t                     print(x := 3)\t    x = 3\n",
        "#                                             print(x)"
      ],
      "metadata": {
        "id": "H-26NHQIPWjU"
      },
      "execution_count": null,
      "outputs": []
    },
    {
      "cell_type": "code",
      "source": [
        "# =\t                       x = 5\t            x = 5\n",
        "\n",
        "x = 5\n",
        "\n",
        "print(x)"
      ],
      "metadata": {
        "colab": {
          "base_uri": "https://localhost:8080/"
        },
        "id": "D4ka8Cz2R4Nf",
        "outputId": "acd52e91-8036-49ad-9687-65ef631644f2"
      },
      "execution_count": null,
      "outputs": [
        {
          "output_type": "stream",
          "name": "stdout",
          "text": [
            "5\n"
          ]
        }
      ]
    },
    {
      "cell_type": "code",
      "source": [
        "# +=\t                     x += 3\t            x = x + 3\n",
        "\n",
        "x = 5\n",
        "x += 3\n",
        "\n",
        "print(x)"
      ],
      "metadata": {
        "colab": {
          "base_uri": "https://localhost:8080/"
        },
        "id": "7crsreTqR-IA",
        "outputId": "b051b7f2-4a3c-4a78-92f1-47a706341523"
      },
      "execution_count": null,
      "outputs": [
        {
          "output_type": "stream",
          "name": "stdout",
          "text": [
            "8\n"
          ]
        }
      ]
    },
    {
      "cell_type": "code",
      "source": [
        "# -=\t                     x -= 3\t            x = x - 3\n",
        "\n",
        "x = 5\n",
        "x -= 3\n",
        "\n",
        "print(x)"
      ],
      "metadata": {
        "colab": {
          "base_uri": "https://localhost:8080/"
        },
        "id": "1P6dKIL7SNZQ",
        "outputId": "083e5fd7-c43a-4a32-f999-de059f238806"
      },
      "execution_count": null,
      "outputs": [
        {
          "output_type": "stream",
          "name": "stdout",
          "text": [
            "2\n"
          ]
        }
      ]
    },
    {
      "cell_type": "code",
      "source": [
        "# *=\t                     x *= 3\t            x = x * 3\n",
        "\n",
        "x = 5\n",
        "x *= 3\n",
        "\n",
        "print(x)"
      ],
      "metadata": {
        "colab": {
          "base_uri": "https://localhost:8080/"
        },
        "id": "YdOLhsoIShfT",
        "outputId": "abe16841-8217-43a6-a34f-4e0aa27b060f"
      },
      "execution_count": null,
      "outputs": [
        {
          "output_type": "stream",
          "name": "stdout",
          "text": [
            "15\n"
          ]
        }
      ]
    },
    {
      "cell_type": "code",
      "source": [
        "# /=\t                     x /= 3\t            x = x / 3\n",
        "\n",
        "x = 5\n",
        "x /= 3\n",
        "\n",
        "print(x)"
      ],
      "metadata": {
        "colab": {
          "base_uri": "https://localhost:8080/"
        },
        "id": "rqattf96SvVe",
        "outputId": "4618ed1c-8c8c-458c-b6ce-7fd1b4a8669a"
      },
      "execution_count": null,
      "outputs": [
        {
          "output_type": "stream",
          "name": "stdout",
          "text": [
            "1.6666666666666667\n"
          ]
        }
      ]
    },
    {
      "cell_type": "code",
      "source": [
        "# %=\t                     x %= 3\t            x = x % 3\n",
        "\n",
        "x = 5\n",
        "x %= 3\n",
        "\n",
        "print(x)"
      ],
      "metadata": {
        "colab": {
          "base_uri": "https://localhost:8080/"
        },
        "id": "-kcwEoiXS-1I",
        "outputId": "a861f586-62a9-4e71-edc9-7125273846fc"
      },
      "execution_count": null,
      "outputs": [
        {
          "output_type": "stream",
          "name": "stdout",
          "text": [
            "2\n"
          ]
        }
      ]
    },
    {
      "cell_type": "code",
      "source": [
        "# //=\t                     x //= 3\t          x = x // 3\n",
        "\n",
        "x = 5\n",
        "x //= 3\n",
        "\n",
        "print(x)"
      ],
      "metadata": {
        "colab": {
          "base_uri": "https://localhost:8080/"
        },
        "id": "gVZbsoejTKgh",
        "outputId": "86b741a9-3e6a-49c0-9bbb-7f5df944a042"
      },
      "execution_count": null,
      "outputs": [
        {
          "output_type": "stream",
          "name": "stdout",
          "text": [
            "1\n"
          ]
        }
      ]
    },
    {
      "cell_type": "code",
      "source": [
        "# **=\t                     x **= 3\t          x = x ** 3\n",
        "\n",
        "x = 5\n",
        "x **= 3\n",
        "\n",
        "print(x)"
      ],
      "metadata": {
        "colab": {
          "base_uri": "https://localhost:8080/"
        },
        "id": "rBDdn4saTaTU",
        "outputId": "badd34dd-365b-4052-8e6a-a419504167be"
      },
      "execution_count": null,
      "outputs": [
        {
          "output_type": "stream",
          "name": "stdout",
          "text": [
            "125\n"
          ]
        }
      ]
    },
    {
      "cell_type": "code",
      "source": [
        "# &=\t                     x &= 3\t            x = x & 3\n",
        "\n",
        "x = 5\n",
        "x &= 3\n",
        "\n",
        "print(x)\n",
        "# The bitwise AND operator compares each bit of the two numbers 101(5) | 011(3) = 001(1)"
      ],
      "metadata": {
        "colab": {
          "base_uri": "https://localhost:8080/"
        },
        "id": "vhljh_eRXB5d",
        "outputId": "7e4a4617-bf8c-4a63-ad5f-439bbcf60bee"
      },
      "execution_count": 1,
      "outputs": [
        {
          "output_type": "stream",
          "name": "stdout",
          "text": [
            "1\n"
          ]
        }
      ]
    },
    {
      "cell_type": "code",
      "source": [
        "# |=\t                     x |= 3\t            x = x | 3\n",
        "\n",
        "x = 5\n",
        "x |= 3\n",
        "\n",
        "print(x)\n",
        "# The bitwise OR operator compares each bit of the two numbers 101(5) | 011(3) = 111(7)"
      ],
      "metadata": {
        "colab": {
          "base_uri": "https://localhost:8080/"
        },
        "id": "Phvxv064XZyh",
        "outputId": "a39643a6-4242-4955-f0e7-ddbccb61238a"
      },
      "execution_count": 2,
      "outputs": [
        {
          "output_type": "stream",
          "name": "stdout",
          "text": [
            "7\n"
          ]
        }
      ]
    },
    {
      "cell_type": "code",
      "source": [
        "# ^=\t                     x ^= 3\t            x = x ^ 3\n",
        "\n",
        "x = 5\n",
        "x ^= 3\n",
        "\n",
        "print(x)\n",
        "# The bitwise XOR operator compares each bit of the two numbers 101(5) | 011(3) = 110(6)"
      ],
      "metadata": {
        "id": "9dGNSV9JXv6f",
        "colab": {
          "base_uri": "https://localhost:8080/"
        },
        "outputId": "ef27bb30-100f-41f8-9a88-7f995906a616"
      },
      "execution_count": 4,
      "outputs": [
        {
          "output_type": "stream",
          "name": "stdout",
          "text": [
            "6\n"
          ]
        }
      ]
    },
    {
      "cell_type": "code",
      "source": [
        "# >>=\t                     x >>= 3\t          x = x >> 3\n",
        "\n",
        "x = 5\n",
        "x >>= 3\n",
        "\n",
        "print(x)\n",
        "# Bitwise Right Shift\n",
        "# Original:    00000101  (5 in binary)\n",
        "# Shifted:     00000000  (after shifting right by 3)\n",
        "# When we shift bits to the right, we effectively divide the number by 2^n where n is the number of positions shifted."
      ],
      "metadata": {
        "colab": {
          "base_uri": "https://localhost:8080/"
        },
        "id": "z9LXHrtYRp0a",
        "outputId": "e370700d-4946-4daf-b086-422e6b552716"
      },
      "execution_count": 6,
      "outputs": [
        {
          "output_type": "stream",
          "name": "stdout",
          "text": [
            "0\n"
          ]
        }
      ]
    },
    {
      "cell_type": "code",
      "source": [
        "# <<=\t                     x <<= 3\t          x = x << 3\n",
        "\n",
        "x = 5\n",
        "x <<= 3\n",
        "\n",
        "print(x)\n",
        "# Bitwise Left Shift\n",
        "# Original:    00000101  (5 in binary)\n",
        "# Shifted:     00101000  (after shifting left by 3)\n",
        "# When we shift bits to the right, we effectively multiply the number by 2^n where n is the number of positions shifted."
      ],
      "metadata": {
        "colab": {
          "base_uri": "https://localhost:8080/"
        },
        "id": "hqt6ZJJLSLhK",
        "outputId": "e34d113c-e015-4f00-ef57-e48dd9918b2e"
      },
      "execution_count": 8,
      "outputs": [
        {
          "output_type": "stream",
          "name": "stdout",
          "text": [
            "40\n"
          ]
        }
      ]
    },
    {
      "cell_type": "code",
      "source": [
        "# :=\t                print(x := 3)\t        x = 3\n",
        "#                                           print(x)\n",
        "\n",
        "print(x := 3)\n",
        "# The expression x := 3 assigns the value 3 to the variable x. The assignment occurs within the print() function call."
      ],
      "metadata": {
        "colab": {
          "base_uri": "https://localhost:8080/"
        },
        "id": "M3znTth7Tgo8",
        "outputId": "138f1cd5-3d40-4c41-f7da-f76a9fb7413f"
      },
      "execution_count": 10,
      "outputs": [
        {
          "output_type": "stream",
          "name": "stdout",
          "text": [
            "3\n"
          ]
        }
      ]
    },
    {
      "cell_type": "markdown",
      "source": [
        "# Comparison Operators"
      ],
      "metadata": {
        "id": "QU5TcEvsUwzG"
      }
    },
    {
      "cell_type": "code",
      "source": [
        "# Comparison operators are used to compare two values\n",
        "\n",
        "# Operator\t              Name\t                        Example\n",
        "# ==\t                    Equal\t                        x == y\n",
        "# !=\t                    Not equal\t                    x != y\n",
        "# >\t                      Greater than\t                x > y\n",
        "# <\t                      Less than\t                    x < y\n",
        "# >=\t                    Greater than or equal to\t    x >= y\n",
        "# <=\t                    Less than or equal to\t        x <= y"
      ],
      "metadata": {
        "id": "PWV8G789ULS5"
      },
      "execution_count": 13,
      "outputs": []
    },
    {
      "cell_type": "code",
      "source": [
        "# ==\t                    Equal\t                        x == y\n",
        "\n",
        "x = 5\n",
        "y = 3\n",
        "\n",
        "print(x == y)\n",
        "# returns False because 5 is not equal to 3"
      ],
      "metadata": {
        "colab": {
          "base_uri": "https://localhost:8080/"
        },
        "id": "1a2U9jczUiWa",
        "outputId": "6f829b63-5601-4a80-fe49-3c74e8c5731f"
      },
      "execution_count": 14,
      "outputs": [
        {
          "output_type": "stream",
          "name": "stdout",
          "text": [
            "False\n"
          ]
        }
      ]
    },
    {
      "cell_type": "code",
      "source": [
        "# !=\t                    Not equal\t                    x != y\n",
        "\n",
        "x = 5\n",
        "y = 3\n",
        "\n",
        "print(x != y)\n",
        "# returns True because 5 is not equal to 3\n"
      ],
      "metadata": {
        "colab": {
          "base_uri": "https://localhost:8080/"
        },
        "id": "lH9ngw6pW5-w",
        "outputId": "83c61291-7995-421c-fee7-a15ee3ec37a3"
      },
      "execution_count": 15,
      "outputs": [
        {
          "output_type": "stream",
          "name": "stdout",
          "text": [
            "True\n"
          ]
        }
      ]
    },
    {
      "cell_type": "code",
      "source": [
        "# >\t                      Greater than\t                x > y\n",
        "\n",
        "x = 5\n",
        "y = 3\n",
        "\n",
        "print(x > y)\n",
        "# returns True because 5 is greater than 3"
      ],
      "metadata": {
        "colab": {
          "base_uri": "https://localhost:8080/"
        },
        "id": "pQGrpzdPXE7H",
        "outputId": "0fc05197-1026-4253-805e-fff62ff40d2b"
      },
      "execution_count": 16,
      "outputs": [
        {
          "output_type": "stream",
          "name": "stdout",
          "text": [
            "True\n"
          ]
        }
      ]
    },
    {
      "cell_type": "code",
      "source": [
        "# <\t                      Less than\t                    x < y\n",
        "\n",
        "x = 5\n",
        "y = 3\n",
        "\n",
        "print(x < y)\n",
        "# returns False because 5 is not less than 3"
      ],
      "metadata": {
        "colab": {
          "base_uri": "https://localhost:8080/"
        },
        "id": "LUKeTDKOXX-g",
        "outputId": "64850b13-fcaf-4f69-8d73-4f4e799e49e6"
      },
      "execution_count": 17,
      "outputs": [
        {
          "output_type": "stream",
          "name": "stdout",
          "text": [
            "False\n"
          ]
        }
      ]
    },
    {
      "cell_type": "code",
      "source": [
        "# >=\t                    Greater than or equal to\t    x >= y\n",
        "\n",
        "x = 5\n",
        "y = 3\n",
        "\n",
        "print(x >= y)\n",
        "# returns True because 5 is greater, or equal, to 3"
      ],
      "metadata": {
        "colab": {
          "base_uri": "https://localhost:8080/"
        },
        "id": "mAhOkD9xX3vI",
        "outputId": "0bbda665-cac2-4d5f-cd76-dd33b0372f26"
      },
      "execution_count": 19,
      "outputs": [
        {
          "output_type": "stream",
          "name": "stdout",
          "text": [
            "True\n"
          ]
        }
      ]
    },
    {
      "cell_type": "code",
      "source": [
        "# <=\t                    Less than or equal to\t        x <= y\n",
        "\n",
        "x = 5\n",
        "y = 3\n",
        "\n",
        "print(x <= y)\n",
        "# returns False because 5 is neither less than or equal to 3"
      ],
      "metadata": {
        "colab": {
          "base_uri": "https://localhost:8080/"
        },
        "id": "umGtG5iYYCuP",
        "outputId": "03781184-d07b-4a89-f2d8-2f6c69cde001"
      },
      "execution_count": 20,
      "outputs": [
        {
          "output_type": "stream",
          "name": "stdout",
          "text": [
            "False\n"
          ]
        }
      ]
    },
    {
      "cell_type": "markdown",
      "source": [
        "# Logical Operators"
      ],
      "metadata": {
        "id": "usAwk8iBYXTH"
      }
    },
    {
      "cell_type": "code",
      "source": [
        "# Logical operators are used to combine conditional statements\n",
        "\n",
        "\n",
        "# Operator\t       Description\t                                                    Example\n",
        "# and \t           Returns True if both statements are true\t                        x < 5 and  x < 10\n",
        "# or\t             Returns True if one of the statements is true\t                  x < 5 or x < 4\n",
        "# not\t             Reverse the result, returns False if the result is true\t        not(x < 5 and x < 10)"
      ],
      "metadata": {
        "id": "WjGXl4tKYOMu"
      },
      "execution_count": 21,
      "outputs": []
    },
    {
      "cell_type": "code",
      "source": [
        "# and \t           Returns True if both statements are true\t                        x < 5 and  x < 10\tx = 5\n",
        "\n",
        "x = 5\n",
        "\n",
        "print(x > 3 and x < 10)\n",
        "# returns True because 5 is greater than 3 AND 5 is less than 10"
      ],
      "metadata": {
        "colab": {
          "base_uri": "https://localhost:8080/"
        },
        "id": "2NllE-53ZL0c",
        "outputId": "1a24f3f4-59a9-4048-ecc2-01ca98b5ebf9"
      },
      "execution_count": 22,
      "outputs": [
        {
          "output_type": "stream",
          "name": "stdout",
          "text": [
            "True\n"
          ]
        }
      ]
    },
    {
      "cell_type": "code",
      "source": [
        "# or\t             Returns True if one of the statements is true\t                  x < 5 or x < 4\n",
        "\n",
        "x = 5\n",
        "\n",
        "print(x > 3 or x < 4)\n",
        "# returns True because one of the conditions are true (5 is greater than 3, but 5 is not less than 4)"
      ],
      "metadata": {
        "colab": {
          "base_uri": "https://localhost:8080/"
        },
        "id": "O6xr7e42Zip6",
        "outputId": "5f79dfe7-ae73-4604-b66f-d4e0364ee6f9"
      },
      "execution_count": 23,
      "outputs": [
        {
          "output_type": "stream",
          "name": "stdout",
          "text": [
            "True\n"
          ]
        }
      ]
    },
    {
      "cell_type": "code",
      "source": [
        "# not\t             Reverse the result, returns False if the result is true\t        not(x < 5 and x < 10)\n",
        "\n",
        "x = 5\n",
        "\n",
        "print(not(x > 3 and x < 10))\n",
        "# returns False because not is used to reverse the result"
      ],
      "metadata": {
        "colab": {
          "base_uri": "https://localhost:8080/"
        },
        "id": "8S5wHwWWZzL5",
        "outputId": "87e4f916-0111-4a6f-dc99-343fcd248fb1"
      },
      "execution_count": 24,
      "outputs": [
        {
          "output_type": "stream",
          "name": "stdout",
          "text": [
            "False\n"
          ]
        }
      ]
    },
    {
      "cell_type": "markdown",
      "source": [
        "# Identity Operators"
      ],
      "metadata": {
        "id": "ssSXek2TaCwR"
      }
    },
    {
      "cell_type": "code",
      "source": [
        "# Identity operators are used to compare the objects, not if they are equal, but if they are actually the same object, with the same memory location\n",
        "\n",
        "# Operator\t         Description\t                                                 Example\n",
        "# is \t               Returns True if both variables are the same object\t           x is y\n",
        "# is not\t           Returns True if both variables are not the same object\t       x is not y"
      ],
      "metadata": {
        "id": "a0ZbI64fZ6mT"
      },
      "execution_count": 25,
      "outputs": []
    },
    {
      "cell_type": "code",
      "source": [
        "# is \t               Returns True if both variables are the same object\t           x is y\n",
        "\n",
        "x = [\"apple\", \"banana\"]\n",
        "y = [\"apple\", \"banana\"]\n",
        "z = x\n",
        "\n",
        "print(x is z)\n",
        "# returns True because z is the same object as x\n",
        "\n",
        "print(x is y)\n",
        "# returns False because x is not the same object as y, even if they have the same content\n",
        "\n",
        "print(x == y)\n",
        "# to demonstrate the difference betweeen \"is\" and \"==\": this comparison returns True because x is equal to y"
      ],
      "metadata": {
        "colab": {
          "base_uri": "https://localhost:8080/"
        },
        "id": "nyRtZgOVamHV",
        "outputId": "054204a8-4d71-4e01-8fad-60284f18ffb2"
      },
      "execution_count": 27,
      "outputs": [
        {
          "output_type": "stream",
          "name": "stdout",
          "text": [
            "True\n",
            "False\n",
            "True\n"
          ]
        }
      ]
    },
    {
      "cell_type": "code",
      "source": [
        "# is not\t           Returns True if both variables are not the same object\t       x is not y\n",
        "\n",
        "x = [\"apple\", \"banana\"]\n",
        "y = [\"apple\", \"banana\"]\n",
        "z = x\n",
        "\n",
        "print(x is not z)\n",
        "# returns False because z is the same object as x\n",
        "\n",
        "print(x is not y)\n",
        "# returns True because x is not the same object as y, even if they have the same content\n",
        "\n",
        "print(x != y)\n",
        "# to demonstrate the difference betweeen \"is not\" and \"!=\": this comparison returns False because x is equal to y"
      ],
      "metadata": {
        "colab": {
          "base_uri": "https://localhost:8080/"
        },
        "id": "BJguRh-jaxtt",
        "outputId": "7f90b24e-46d2-408d-c78f-27dbd279a572"
      },
      "execution_count": 28,
      "outputs": [
        {
          "output_type": "stream",
          "name": "stdout",
          "text": [
            "False\n",
            "True\n",
            "False\n"
          ]
        }
      ]
    },
    {
      "cell_type": "markdown",
      "source": [
        "# Membership Operators"
      ],
      "metadata": {
        "id": "RQ2Pu28gblhN"
      }
    },
    {
      "cell_type": "code",
      "source": [
        "# Membership operators are used to test if a sequence is presented in an object.\n",
        "\n",
        "# Operator\t       Description\t                                                                          Example\n",
        "# in \t             Returns True if a sequence with the specified value is present in the object\t          x in y\n",
        "# not in\t         Returns True if a sequence with the specified value is not present in the object       x not in y"
      ],
      "metadata": {
        "id": "E6sPhlL3bY20"
      },
      "execution_count": 36,
      "outputs": []
    },
    {
      "cell_type": "code",
      "source": [
        "# in \t             Returns True if a sequence with the specified value is present in the object\t          x in y\n",
        "\n",
        "x = [\"apple\", \"banana\"]\n",
        "\n",
        "print(\"banana\" in x)\n",
        "# returns True because a sequence with the value \"banana\" is in the list"
      ],
      "metadata": {
        "colab": {
          "base_uri": "https://localhost:8080/"
        },
        "id": "L5Qw7lakbwbs",
        "outputId": "04995433-babc-4f2a-feef-b17af3f3d17e"
      },
      "execution_count": 37,
      "outputs": [
        {
          "output_type": "stream",
          "name": "stdout",
          "text": [
            "True\n"
          ]
        }
      ]
    },
    {
      "cell_type": "code",
      "source": [
        "# not in\t         Returns True if a sequence with the specified value is not present in the object       x not in y\n",
        "\n",
        "x = [\"apple\", \"banana\"]\n",
        "\n",
        "print(\"pineapple\" not in x)\n",
        "# returns True because a sequence with the value \"pineapple\" is not in the list"
      ],
      "metadata": {
        "colab": {
          "base_uri": "https://localhost:8080/"
        },
        "id": "aMyGlIRJeBei",
        "outputId": "1f1981bf-9b84-4d89-b8ac-89abf1cea2f6"
      },
      "execution_count": 38,
      "outputs": [
        {
          "output_type": "stream",
          "name": "stdout",
          "text": [
            "True\n"
          ]
        }
      ]
    },
    {
      "cell_type": "markdown",
      "source": [
        "# Bitwise Operators"
      ],
      "metadata": {
        "id": "IM97sGJbelxZ"
      }
    },
    {
      "cell_type": "code",
      "source": [
        "# Bitwise operators are used to compare (binary) numbers\n",
        "\n",
        "# Operator\t Name\t                    Description\t                                                                                              Example\n",
        "# & \t       AND\t                    Sets each bit to 1 if both bits are 1\t                                                                     x & y\n",
        "# |\t         OR\t                      Sets each bit to 1 if one of two bits is 1\t                                                               x | y\n",
        "# ^\t         XOR\t                    Sets each bit to 1 if only one of two bits is 1\t                                                           x ^ y\n",
        "# ~\t         NOT\t                    Inverts all the bits\t                                                                                     ~x\n",
        "# <<\t       Zero fill left shift\t    Shift left by pushing zeros in from the right and let the leftmost bits fall off\t                         x << 2\n",
        "# >>\t       Signed right shift\t      Shift right by pushing copies of the leftmost bit in from the left, and let the rightmost bits fall off\t   x >> 2"
      ],
      "metadata": {
        "id": "RZIq193XebxK"
      },
      "execution_count": 40,
      "outputs": []
    },
    {
      "cell_type": "code",
      "source": [],
      "metadata": {
        "id": "1TB74NUTfPvA"
      },
      "execution_count": null,
      "outputs": []
    }
  ]
}