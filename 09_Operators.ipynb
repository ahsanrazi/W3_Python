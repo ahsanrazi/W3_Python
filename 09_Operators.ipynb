{
  "nbformat": 4,
  "nbformat_minor": 0,
  "metadata": {
    "colab": {
      "provenance": [],
      "authorship_tag": "ABX9TyNKAtPH4cnZvnR44K16bQE+",
      "include_colab_link": true
    },
    "kernelspec": {
      "name": "python3",
      "display_name": "Python 3"
    },
    "language_info": {
      "name": "python"
    }
  },
  "cells": [
    {
      "cell_type": "markdown",
      "metadata": {
        "id": "view-in-github",
        "colab_type": "text"
      },
      "source": [
        "<a href=\"https://colab.research.google.com/github/ahsanrazi/W3_Python/blob/main/09_Operators.ipynb\" target=\"_parent\"><img src=\"https://colab.research.google.com/assets/colab-badge.svg\" alt=\"Open In Colab\"/></a>"
      ]
    },
    {
      "cell_type": "markdown",
      "source": [
        "# Operators"
      ],
      "metadata": {
        "id": "Ptt31nM3Nlu4"
      }
    },
    {
      "cell_type": "code",
      "execution_count": 1,
      "metadata": {
        "colab": {
          "base_uri": "https://localhost:8080/"
        },
        "id": "XO3VF0s7NfAC",
        "outputId": "70c4a4c7-11a9-4881-df4b-7327eca06d67"
      },
      "outputs": [
        {
          "output_type": "stream",
          "name": "stdout",
          "text": [
            "15\n"
          ]
        }
      ],
      "source": [
        "# Operators are used to perform operations on variables and values.\n",
        "\n",
        "print(10 + 5)"
      ]
    },
    {
      "cell_type": "code",
      "source": [
        "# Python divides the operators in the following groups:\n",
        "\n",
        "# Arithmetic operators\n",
        "# Assignment operators\n",
        "# Comparison operators\n",
        "# Logical operators\n",
        "# Identity operators\n",
        "# Membership operators\n",
        "# Bitwise operators"
      ],
      "metadata": {
        "id": "OWYcpleiODDe"
      },
      "execution_count": null,
      "outputs": []
    },
    {
      "cell_type": "markdown",
      "source": [
        "# Arithmetic Operators"
      ],
      "metadata": {
        "id": "R8vF_cE6OPS1"
      }
    },
    {
      "cell_type": "code",
      "source": [
        "# Arithmetic operators are used with numeric values to perform common mathematical operations.\n",
        "\n",
        "# Operator\t           Name\t               Example\n",
        "# +\t                   Addition\t           x + y\n",
        "# -\t                   Subtraction\t       x - y\n",
        "# *\t                   Multiplication\t     x * y\n",
        "# /\t                   Division\t           x / y\n",
        "# %\t                   Modulus\t           x % y\n",
        "# **\t                 Exponentiation\t     x ** y\n",
        "# //\t                 Floor division\t     x // y"
      ],
      "metadata": {
        "id": "XowM44daOQBK"
      },
      "execution_count": 2,
      "outputs": []
    },
    {
      "cell_type": "code",
      "source": [
        "# +\t                   Addition\t           x + y\n",
        "\n",
        "x = 5\n",
        "y = 3\n",
        "\n",
        "print(x + y)"
      ],
      "metadata": {
        "colab": {
          "base_uri": "https://localhost:8080/"
        },
        "id": "p2GSmCPLPD8U",
        "outputId": "1cd8ae69-1677-4907-a10e-a97fbaef893e"
      },
      "execution_count": 3,
      "outputs": [
        {
          "output_type": "stream",
          "name": "stdout",
          "text": [
            "8\n"
          ]
        }
      ]
    },
    {
      "cell_type": "code",
      "source": [
        "# -\t                   Subtraction\t       x - y\n",
        "\n",
        "x = 5\n",
        "y = 3\n",
        "\n",
        "print(x - y)"
      ],
      "metadata": {
        "colab": {
          "base_uri": "https://localhost:8080/"
        },
        "id": "0kTZfR-cPJqb",
        "outputId": "612f6b2e-0111-4105-bb59-8cf707a35bd0"
      },
      "execution_count": 11,
      "outputs": [
        {
          "output_type": "stream",
          "name": "stdout",
          "text": [
            "2\n"
          ]
        }
      ]
    },
    {
      "cell_type": "code",
      "source": [
        "# *\t                   Multiplication\t     x * y\n",
        "\n",
        "x = 5\n",
        "y = 3\n",
        "\n",
        "print(x * y)"
      ],
      "metadata": {
        "colab": {
          "base_uri": "https://localhost:8080/"
        },
        "id": "Mfy7oW9KPLoK",
        "outputId": "888397ef-99ab-47ba-dc92-72d4a02c8a1a"
      },
      "execution_count": 13,
      "outputs": [
        {
          "output_type": "stream",
          "name": "stdout",
          "text": [
            "15\n"
          ]
        }
      ]
    },
    {
      "cell_type": "code",
      "source": [
        "# /\t                   Division\t           x / y\n",
        "\n",
        "x = 12\n",
        "y = 3\n",
        "\n",
        "print(x / y)"
      ],
      "metadata": {
        "colab": {
          "base_uri": "https://localhost:8080/"
        },
        "id": "eVcRfdjbPNZW",
        "outputId": "5775ac4a-86c7-451d-9aeb-ab11aa5a071a"
      },
      "execution_count": 15,
      "outputs": [
        {
          "output_type": "stream",
          "name": "stdout",
          "text": [
            "4.0\n"
          ]
        }
      ]
    },
    {
      "cell_type": "code",
      "source": [
        "# %\t                   Modulus\t           x % y\n",
        "\n",
        "x = 5\n",
        "y = 2\n",
        "\n",
        "print(x % y)"
      ],
      "metadata": {
        "colab": {
          "base_uri": "https://localhost:8080/"
        },
        "id": "5SBlkiWjPPlC",
        "outputId": "82890be9-88a7-453d-99b8-b23834c7a6fb"
      },
      "execution_count": 16,
      "outputs": [
        {
          "output_type": "stream",
          "name": "stdout",
          "text": [
            "1\n"
          ]
        }
      ]
    },
    {
      "cell_type": "code",
      "source": [
        "# **\t                 Exponentiation\t     x ** y\n",
        "\n",
        "x = 2\n",
        "y = 5\n",
        "\n",
        "print(x ** y) #same as 2*2*2*2*2"
      ],
      "metadata": {
        "colab": {
          "base_uri": "https://localhost:8080/"
        },
        "id": "vCsR9T2VPRqm",
        "outputId": "7a7f1f53-8b20-4194-e4cd-4d891dc46ea8"
      },
      "execution_count": 17,
      "outputs": [
        {
          "output_type": "stream",
          "name": "stdout",
          "text": [
            "32\n"
          ]
        }
      ]
    },
    {
      "cell_type": "code",
      "source": [
        "# //\t                 Floor division\t     x // y\n",
        "\n",
        "x = 15\n",
        "y = 2\n",
        "\n",
        "print(x // y)\n",
        "\n",
        "#the floor division // rounds the result down to the nearest whole number"
      ],
      "metadata": {
        "colab": {
          "base_uri": "https://localhost:8080/"
        },
        "id": "T7j5zU44PUZZ",
        "outputId": "3295fbad-c404-492c-e145-57e9fa645412"
      },
      "execution_count": 18,
      "outputs": [
        {
          "output_type": "stream",
          "name": "stdout",
          "text": [
            "7\n"
          ]
        }
      ]
    },
    {
      "cell_type": "markdown",
      "source": [
        "# Assignment Operators"
      ],
      "metadata": {
        "id": "cQcfo_MqQcRt"
      }
    },
    {
      "cell_type": "code",
      "source": [
        "# Assignment operators are used to assign values to variables.\n",
        "\n",
        "# Operator\t               Example\t          Same As\n",
        "# =\t                       x = 5\t            x = 5\n",
        "# +=\t                     x += 3\t            x = x + 3\n",
        "# -=\t                     x -= 3\t            x = x - 3\n",
        "# *=\t                     x *= 3\t            x = x * 3\n",
        "# /=\t                     x /= 3\t            x = x / 3\n",
        "# %=\t                     x %= 3\t            x = x % 3\n",
        "# //=\t                     x //= 3\t          x = x // 3\n",
        "# **=\t                     x **= 3\t          x = x ** 3\n",
        "# &=\t                     x &= 3\t            x = x & 3\n",
        "# |=\t                     x |= 3\t            x = x | 3\n",
        "# ^=\t                     x ^= 3\t            x = x ^ 3\n",
        "# >>=\t                     x >>= 3\t          x = x >> 3\n",
        "# <<=\t                     x <<= 3\t          x = x << 3\n",
        "# :=\t                     print(x := 3)\t    x = 3\n",
        "#                                             print(x)"
      ],
      "metadata": {
        "id": "H-26NHQIPWjU"
      },
      "execution_count": 19,
      "outputs": []
    },
    {
      "cell_type": "code",
      "source": [
        "# =\t                       x = 5\t            x = 5\n",
        "\n",
        "x = 5\n",
        "\n",
        "print(x)"
      ],
      "metadata": {
        "colab": {
          "base_uri": "https://localhost:8080/"
        },
        "id": "D4ka8Cz2R4Nf",
        "outputId": "acd52e91-8036-49ad-9687-65ef631644f2"
      },
      "execution_count": 20,
      "outputs": [
        {
          "output_type": "stream",
          "name": "stdout",
          "text": [
            "5\n"
          ]
        }
      ]
    },
    {
      "cell_type": "code",
      "source": [
        "# +=\t                     x += 3\t            x = x + 3\n",
        "\n",
        "x = 5\n",
        "x += 3\n",
        "\n",
        "print(x)"
      ],
      "metadata": {
        "colab": {
          "base_uri": "https://localhost:8080/"
        },
        "id": "7crsreTqR-IA",
        "outputId": "b051b7f2-4a3c-4a78-92f1-47a706341523"
      },
      "execution_count": 21,
      "outputs": [
        {
          "output_type": "stream",
          "name": "stdout",
          "text": [
            "8\n"
          ]
        }
      ]
    },
    {
      "cell_type": "code",
      "source": [
        "# -=\t                     x -= 3\t            x = x - 3\n",
        "\n",
        "x = 5\n",
        "x -= 3\n",
        "\n",
        "print(x)"
      ],
      "metadata": {
        "colab": {
          "base_uri": "https://localhost:8080/"
        },
        "id": "1P6dKIL7SNZQ",
        "outputId": "083e5fd7-c43a-4a32-f999-de059f238806"
      },
      "execution_count": 22,
      "outputs": [
        {
          "output_type": "stream",
          "name": "stdout",
          "text": [
            "2\n"
          ]
        }
      ]
    },
    {
      "cell_type": "code",
      "source": [
        "# *=\t                     x *= 3\t            x = x * 3\n",
        "\n",
        "x = 5\n",
        "x *= 3\n",
        "\n",
        "print(x)"
      ],
      "metadata": {
        "colab": {
          "base_uri": "https://localhost:8080/"
        },
        "id": "YdOLhsoIShfT",
        "outputId": "abe16841-8217-43a6-a34f-4e0aa27b060f"
      },
      "execution_count": 23,
      "outputs": [
        {
          "output_type": "stream",
          "name": "stdout",
          "text": [
            "15\n"
          ]
        }
      ]
    },
    {
      "cell_type": "code",
      "source": [
        "# /=\t                     x /= 3\t            x = x / 3\n",
        "\n",
        "x = 5\n",
        "x /= 3\n",
        "\n",
        "print(x)"
      ],
      "metadata": {
        "colab": {
          "base_uri": "https://localhost:8080/"
        },
        "id": "rqattf96SvVe",
        "outputId": "4618ed1c-8c8c-458c-b6ce-7fd1b4a8669a"
      },
      "execution_count": 24,
      "outputs": [
        {
          "output_type": "stream",
          "name": "stdout",
          "text": [
            "1.6666666666666667\n"
          ]
        }
      ]
    },
    {
      "cell_type": "code",
      "source": [
        "# %=\t                     x %= 3\t            x = x % 3\n",
        "\n",
        "x = 5\n",
        "x %= 3\n",
        "\n",
        "print(x)"
      ],
      "metadata": {
        "colab": {
          "base_uri": "https://localhost:8080/"
        },
        "id": "-kcwEoiXS-1I",
        "outputId": "a861f586-62a9-4e71-edc9-7125273846fc"
      },
      "execution_count": 27,
      "outputs": [
        {
          "output_type": "stream",
          "name": "stdout",
          "text": [
            "2\n"
          ]
        }
      ]
    },
    {
      "cell_type": "code",
      "source": [
        "# //=\t                     x //= 3\t          x = x // 3\n",
        "\n",
        "x = 5\n",
        "x //= 3\n",
        "\n",
        "print(x)"
      ],
      "metadata": {
        "colab": {
          "base_uri": "https://localhost:8080/"
        },
        "id": "gVZbsoejTKgh",
        "outputId": "86b741a9-3e6a-49c0-9bbb-7f5df944a042"
      },
      "execution_count": 28,
      "outputs": [
        {
          "output_type": "stream",
          "name": "stdout",
          "text": [
            "1\n"
          ]
        }
      ]
    },
    {
      "cell_type": "code",
      "source": [
        "# **=\t                     x **= 3\t          x = x ** 3\n",
        "\n",
        "x = 5\n",
        "x **= 3\n",
        "\n",
        "print(x)"
      ],
      "metadata": {
        "colab": {
          "base_uri": "https://localhost:8080/"
        },
        "id": "rBDdn4saTaTU",
        "outputId": "badd34dd-365b-4052-8e6a-a419504167be"
      },
      "execution_count": 29,
      "outputs": [
        {
          "output_type": "stream",
          "name": "stdout",
          "text": [
            "125\n"
          ]
        }
      ]
    },
    {
      "cell_type": "code",
      "source": [
        "# &=\t                     x &= 3\t            x = x & 3\n",
        "\n",
        "x = 5\n",
        "x &= 3\n",
        "\n",
        "print(x)"
      ],
      "metadata": {
        "colab": {
          "base_uri": "https://localhost:8080/"
        },
        "id": "vhljh_eRXB5d",
        "outputId": "2655607e-eefa-41df-abdf-4ce168b8cc1c"
      },
      "execution_count": 34,
      "outputs": [
        {
          "output_type": "stream",
          "name": "stdout",
          "text": [
            "1\n"
          ]
        }
      ]
    },
    {
      "cell_type": "code",
      "source": [
        "# |=\t                     x |= 3\t            x = x | 3\n",
        "\n",
        "x = 5\n",
        "x |= 3\n",
        "\n",
        "print(x)"
      ],
      "metadata": {
        "colab": {
          "base_uri": "https://localhost:8080/"
        },
        "id": "Phvxv064XZyh",
        "outputId": "b70eb19f-aa0e-474f-ba16-674b46524120"
      },
      "execution_count": 37,
      "outputs": [
        {
          "output_type": "stream",
          "name": "stdout",
          "text": [
            "7\n"
          ]
        }
      ]
    },
    {
      "cell_type": "code",
      "source": [],
      "metadata": {
        "id": "9dGNSV9JXv6f"
      },
      "execution_count": null,
      "outputs": []
    }
  ]
}