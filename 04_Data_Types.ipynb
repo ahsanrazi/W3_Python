{
  "nbformat": 4,
  "nbformat_minor": 0,
  "metadata": {
    "colab": {
      "provenance": [],
      "authorship_tag": "ABX9TyPHU5ZTGNtCr0obovaj/rgf",
      "include_colab_link": true
    },
    "kernelspec": {
      "name": "python3",
      "display_name": "Python 3"
    },
    "language_info": {
      "name": "python"
    }
  },
  "cells": [
    {
      "cell_type": "markdown",
      "metadata": {
        "id": "view-in-github",
        "colab_type": "text"
      },
      "source": [
        "<a href=\"https://colab.research.google.com/github/ahsanrazi/W3_Python/blob/main/04_Data_Types.ipynb\" target=\"_parent\"><img src=\"https://colab.research.google.com/assets/colab-badge.svg\" alt=\"Open In Colab\"/></a>"
      ]
    },
    {
      "cell_type": "markdown",
      "source": [
        "# Built-in Data Types"
      ],
      "metadata": {
        "id": "7C86jFheVK5m"
      }
    },
    {
      "cell_type": "code",
      "execution_count": 2,
      "metadata": {
        "id": "2HOPtq2KUovJ"
      },
      "outputs": [],
      "source": [
        "# In programming, data type is an important concept.\n",
        "# Variables can store data of different types, and different types can do different things.\n",
        "\n",
        "# Python has the following data types built-in by default, in these categories:\n",
        "# Text Type:\t    str\n",
        "# Numeric Types:\tint, float, complex\n",
        "# Sequence Types:\tlist, tuple, range\n",
        "# Mapping Type:\t  dict\n",
        "# Set Types:\t    set, frozenset\n",
        "# Boolean Type:\t  bool\n",
        "# Binary Types:\t  bytes, bytearray, memoryview\n",
        "# None Type:\t    NoneType"
      ]
    },
    {
      "cell_type": "markdown",
      "source": [
        "# Getting the Data Type"
      ],
      "metadata": {
        "id": "cVJZQC9AV_Uo"
      }
    },
    {
      "cell_type": "code",
      "source": [
        "# We can get the data type of any object by using the type() function.\n",
        "\n",
        "x = 5\n",
        "print(type(x))"
      ],
      "metadata": {
        "colab": {
          "base_uri": "https://localhost:8080/"
        },
        "id": "RywYczpIVP1J",
        "outputId": "3ae44113-c218-4ca3-84d4-6aea14aa7c31"
      },
      "execution_count": 3,
      "outputs": [
        {
          "output_type": "stream",
          "name": "stdout",
          "text": [
            "<class 'int'>\n"
          ]
        }
      ]
    },
    {
      "cell_type": "markdown",
      "source": [
        "# Setting the Data Type"
      ],
      "metadata": {
        "id": "GkMLGFTSWNfC"
      }
    },
    {
      "cell_type": "code",
      "source": [
        "# In Python, the data type is set when we assign a value to a variable.\n",
        "\n",
        "# Example:                                              Data Type:\n",
        "# x = \"Hello World\"\t                                    str\n",
        "# x = 20\t                                              int\n",
        "# x = 20.5\t                                            float\n",
        "# x = 1j\t                                              complex\n",
        "# x = [\"apple\", \"banana\", \"cherry\"]\t                    list\n",
        "# x = (\"apple\", \"banana\", \"cherry\")\t                    tuple\n",
        "# x = range(6)\t                                        range\n",
        "# x = {\"name\" : \"John\", \"age\" : 36}\t                    dict\n",
        "# x = {\"apple\", \"banana\", \"cherry\"}\t                    set\n",
        "# x = frozenset({\"apple\", \"banana\", \"cherry\"})          frozenset\n",
        "# x = True\t                                            bool\n",
        "# x = b\"Hello\"\t                                        bytes\n",
        "# x = bytearray(5)\t                                    bytearray\n",
        "# x = memoryview(bytes(5))\t                            memoryview\n",
        "# x = None\t                                            NoneType"
      ],
      "metadata": {
        "id": "vcYSHPdsWIuo"
      },
      "execution_count": 4,
      "outputs": []
    },
    {
      "cell_type": "markdown",
      "source": [
        "# Setting the Specific Data Type"
      ],
      "metadata": {
        "id": "kpvUFliOXyYA"
      }
    },
    {
      "cell_type": "code",
      "source": [
        "# If we want to specify the data type, we can use the following constructor functions. This is called casting.\n",
        "\n",
        "# Example\t                                              Data Type\n",
        "# x = str(\"Hello World\")\t                              str\n",
        "# x = int(20)\t                                          int\n",
        "# x = float(20.5)\t                                      float\n",
        "# x = complex(1j)\t                                      complex\n",
        "# x = list((\"apple\", \"banana\", \"cherry\"))\t              list\n",
        "# x = tuple((\"apple\", \"banana\", \"cherry\"))\t            tuple\n",
        "# x = range(6)\t                                        range\n",
        "# x = dict(name=\"John\", age=36)\t                        dict\n",
        "# x = set((\"apple\", \"banana\", \"cherry\"))\t              set\n",
        "# x = frozenset((\"apple\", \"banana\", \"cherry\"))\t        frozenset\n",
        "# x = bool(5)\t                                          bool\n",
        "# x = bytes(5)\t                                        bytes\n",
        "# x = bytearray(5)\t                                    bytearray\n",
        "# x = memoryview(bytes(5))\t                            memoryview"
      ],
      "metadata": {
        "id": "jckPtZ-bXvxh"
      },
      "execution_count": 16,
      "outputs": []
    }
  ]
}