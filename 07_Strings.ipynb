{
  "nbformat": 4,
  "nbformat_minor": 0,
  "metadata": {
    "colab": {
      "provenance": [],
      "authorship_tag": "ABX9TyNs9qu/kWcj41MOK4D3yovc",
      "include_colab_link": true
    },
    "kernelspec": {
      "name": "python3",
      "display_name": "Python 3"
    },
    "language_info": {
      "name": "python"
    }
  },
  "cells": [
    {
      "cell_type": "markdown",
      "metadata": {
        "id": "view-in-github",
        "colab_type": "text"
      },
      "source": [
        "<a href=\"https://colab.research.google.com/github/ahsanrazi/W3_Python/blob/main/07_Strings.ipynb\" target=\"_parent\"><img src=\"https://colab.research.google.com/assets/colab-badge.svg\" alt=\"Open In Colab\"/></a>"
      ]
    },
    {
      "cell_type": "markdown",
      "source": [
        "# Python Strings"
      ],
      "metadata": {
        "id": "ieVmCHELGPra"
      }
    },
    {
      "cell_type": "code",
      "execution_count": 1,
      "metadata": {
        "id": "2pTt9JuHl2gq",
        "colab": {
          "base_uri": "https://localhost:8080/"
        },
        "outputId": "bc956d18-ca10-4572-f2ba-2ccd24338122"
      },
      "outputs": [
        {
          "output_type": "stream",
          "name": "stdout",
          "text": [
            "Hello\n",
            "Hello\n"
          ]
        }
      ],
      "source": [
        "# Strings in python are surrounded by either single quotation marks, or double quotation marks.\n",
        "# 'hello' is the same as \"hello\".\n",
        "\n",
        "# You can display a string literal with the print() function:\n",
        "print(\"Hello\")\n",
        "print('Hello')"
      ]
    },
    {
      "cell_type": "markdown",
      "source": [
        "# Quotes Inside Quotes"
      ],
      "metadata": {
        "id": "qI96OZhHHKwl"
      }
    },
    {
      "cell_type": "code",
      "source": [
        "# We can use quotes inside a string, as long as they don't match the quotes surrounding the string.\n",
        "\n",
        "print(\"It's alright\")\n",
        "print(\"He is called 'Johnny'\")\n",
        "print('He is called \"Johnny\"')"
      ],
      "metadata": {
        "colab": {
          "base_uri": "https://localhost:8080/"
        },
        "id": "o6U0kn-DGqzX",
        "outputId": "b432af18-0b27-42a1-a0b0-0b58ad057bb7"
      },
      "execution_count": 2,
      "outputs": [
        {
          "output_type": "stream",
          "name": "stdout",
          "text": [
            "It's alright\n",
            "He is called 'Johnny'\n",
            "He is called \"Johnny\"\n"
          ]
        }
      ]
    },
    {
      "cell_type": "markdown",
      "source": [
        "# Assign String to a Variable"
      ],
      "metadata": {
        "id": "NxJxd_6iIYeO"
      }
    },
    {
      "cell_type": "code",
      "source": [
        "# Assigning a string to a variable is done with the variable name followed by an equal sign and the string.\n",
        "\n",
        "a = \"Hello\"\n",
        "print(a)"
      ],
      "metadata": {
        "colab": {
          "base_uri": "https://localhost:8080/"
        },
        "id": "bdZ3rlLtHiGb",
        "outputId": "2add8cb4-9a48-4d16-c90d-eb038389b005"
      },
      "execution_count": 3,
      "outputs": [
        {
          "output_type": "stream",
          "name": "stdout",
          "text": [
            "Hello\n"
          ]
        }
      ]
    },
    {
      "cell_type": "markdown",
      "source": [
        "# Multiline Strings"
      ],
      "metadata": {
        "id": "zlj8SFNeI0Ir"
      }
    },
    {
      "cell_type": "code",
      "source": [
        "# We can assign a multiline string to a variable by using three double quotes.\n",
        "\n",
        "a = \"\"\"Lorem ipsum dolor sit amet,\n",
        "consectetur adipiscing elit,\n",
        "sed do eiusmod tempor incididunt\n",
        "ut labore et dolore magna aliqua.\"\"\"\n",
        "\n",
        "print(a)"
      ],
      "metadata": {
        "colab": {
          "base_uri": "https://localhost:8080/"
        },
        "id": "94R1PkilImWX",
        "outputId": "af55f00a-44ff-4422-8775-ec52255ef3e5"
      },
      "execution_count": 4,
      "outputs": [
        {
          "output_type": "stream",
          "name": "stdout",
          "text": [
            "Lorem ipsum dolor sit amet,\n",
            "consectetur adipiscing elit,\n",
            "sed do eiusmod tempor incididunt\n",
            "ut labore et dolore magna aliqua.\n"
          ]
        }
      ]
    },
    {
      "cell_type": "code",
      "source": [
        "# Or three single quotes\n",
        "\n",
        "a = '''Lorem ipsum dolor sit amet,\n",
        "consectetur adipiscing elit,\n",
        "sed do eiusmod tempor incididunt\n",
        "ut labore et dolore magna aliqua.'''\n",
        "\n",
        "print(a)\n",
        "\n",
        "# In the result, the line breaks are inserted at the same position as in the code."
      ],
      "metadata": {
        "colab": {
          "base_uri": "https://localhost:8080/"
        },
        "id": "ing3AkqOI_sC",
        "outputId": "1ad3e107-df73-4fb9-84e7-5bc98f4abc83"
      },
      "execution_count": 5,
      "outputs": [
        {
          "output_type": "stream",
          "name": "stdout",
          "text": [
            "Lorem ipsum dolor sit amet,\n",
            "consectetur adipiscing elit,\n",
            "sed do eiusmod tempor incididunt\n",
            "ut labore et dolore magna aliqua.\n"
          ]
        }
      ]
    },
    {
      "cell_type": "markdown",
      "source": [
        "# Strings are Arrays"
      ],
      "metadata": {
        "id": "xHNL2gZwJ9bQ"
      }
    },
    {
      "cell_type": "code",
      "source": [
        "# Like many other popular programming languages, strings in Python are arrays of bytes representing unicode characters.\n",
        "# Python does not have a character data type, a single character is simply a string with a length of 1.\n",
        "# Square brackets can be used to access elements of the string.\n",
        "\n",
        "# Get the character at position 1 (remember that the first character has the position 0)\n",
        "a = \"Hello, World!\"\n",
        "print(a[1])"
      ],
      "metadata": {
        "colab": {
          "base_uri": "https://localhost:8080/"
        },
        "id": "9XzxKS12JOWN",
        "outputId": "319c39c3-b9ba-4860-a29e-867dd16c255c"
      },
      "execution_count": 7,
      "outputs": [
        {
          "output_type": "stream",
          "name": "stdout",
          "text": [
            "e\n"
          ]
        }
      ]
    },
    {
      "cell_type": "markdown",
      "source": [
        "# Looping Through a String"
      ],
      "metadata": {
        "id": "en5UI31ALZZ8"
      }
    },
    {
      "cell_type": "code",
      "source": [
        "# Since strings are arrays, we can loop through the characters in a string, with a for loop.\n",
        "for x in \"banana\":\n",
        "  print(x)"
      ],
      "metadata": {
        "colab": {
          "base_uri": "https://localhost:8080/"
        },
        "id": "5DdWHmPOKVZy",
        "outputId": "53bc8d52-7696-486d-8ca5-0d2d08c49bf2"
      },
      "execution_count": 8,
      "outputs": [
        {
          "output_type": "stream",
          "name": "stdout",
          "text": [
            "b\n",
            "a\n",
            "n\n",
            "a\n",
            "n\n",
            "a\n"
          ]
        }
      ]
    },
    {
      "cell_type": "markdown",
      "source": [
        "# String Length"
      ],
      "metadata": {
        "id": "WBaDUdcjMDBu"
      }
    },
    {
      "cell_type": "code",
      "source": [
        "# To get the length of a string, use the len() function.\n",
        "\n",
        "a = \"Hello, World!\"\n",
        "print(len(a))"
      ],
      "metadata": {
        "colab": {
          "base_uri": "https://localhost:8080/"
        },
        "id": "83171HCSLxMW",
        "outputId": "6d4418e8-f356-4ebf-f5f1-ab38e40ad8ea"
      },
      "execution_count": 9,
      "outputs": [
        {
          "output_type": "stream",
          "name": "stdout",
          "text": [
            "13\n"
          ]
        }
      ]
    },
    {
      "cell_type": "markdown",
      "source": [
        "# Check String"
      ],
      "metadata": {
        "id": "BPEsC_hTMrtp"
      }
    },
    {
      "cell_type": "code",
      "source": [
        "# To check if a certain phrase or character is present in a string, we can use the keyword (in).\n",
        "\n",
        "# Check if \"free\" is present in the following text.\n",
        "txt = \"The best things in life are free!\"\n",
        "print(\"free\" in txt)"
      ],
      "metadata": {
        "colab": {
          "base_uri": "https://localhost:8080/"
        },
        "id": "L2Ue9DKiMlW5",
        "outputId": "f5484e35-c73a-40b9-bbd1-b9025cfb8487"
      },
      "execution_count": 10,
      "outputs": [
        {
          "output_type": "stream",
          "name": "stdout",
          "text": [
            "True\n"
          ]
        }
      ]
    },
    {
      "cell_type": "code",
      "source": [
        "# Use it in an if statement:\n",
        "\n",
        "txt = \"The best things in life are free!\"\n",
        "\n",
        "if \"free\" in txt:\n",
        "  print(\"Yes, 'free' is present.\")"
      ],
      "metadata": {
        "colab": {
          "base_uri": "https://localhost:8080/"
        },
        "id": "GAnWAfMgN_8L",
        "outputId": "64c693ab-8e55-4dff-d4ba-86d1fab8a5a6"
      },
      "execution_count": 11,
      "outputs": [
        {
          "output_type": "stream",
          "name": "stdout",
          "text": [
            "Yes, 'free' is present.\n"
          ]
        }
      ]
    },
    {
      "cell_type": "markdown",
      "source": [
        "# Check if NOT"
      ],
      "metadata": {
        "id": "HTtzOoi3Oi-S"
      }
    },
    {
      "cell_type": "code",
      "source": [
        "# To check if a certain phrase or character is NOT present in a string, we can use the keyword (not in).\n",
        "\n",
        "# Check if \"expensive\" is NOT present in the following text\n",
        "txt = \"The best things in life are free!\"\n",
        "print(\"expensive\" not in txt)"
      ],
      "metadata": {
        "colab": {
          "base_uri": "https://localhost:8080/"
        },
        "id": "PLcH-_DjOdt0",
        "outputId": "24d62fa7-f9c1-4db3-eb84-2f96614f60d2"
      },
      "execution_count": 12,
      "outputs": [
        {
          "output_type": "stream",
          "name": "stdout",
          "text": [
            "True\n"
          ]
        }
      ]
    },
    {
      "cell_type": "code",
      "source": [
        "# Use it in an if statement\n",
        "\n",
        "txt = \"The best things in life are free!\"\n",
        "\n",
        "if \"expensive\" not in txt:\n",
        "  print(\"No, 'expensive' is NOT present.\")"
      ],
      "metadata": {
        "colab": {
          "base_uri": "https://localhost:8080/"
        },
        "id": "-H5XIv0XPA6R",
        "outputId": "9e608a23-cb32-4d90-edf6-b580bb2d238c"
      },
      "execution_count": 13,
      "outputs": [
        {
          "output_type": "stream",
          "name": "stdout",
          "text": [
            "No, 'expensive' is NOT present.\n"
          ]
        }
      ]
    },
    {
      "cell_type": "markdown",
      "source": [
        "# Slicing Strings"
      ],
      "metadata": {
        "id": "yQjfGJ4SPadf"
      }
    },
    {
      "cell_type": "code",
      "source": [
        "# We can return a range of characters by using the slice syntax.\n",
        "# Specify the start index and the end index, separated by a colon, to return a part of the string.\n",
        "\n",
        "# Get the characters from position 2 to position 5(not included)\n",
        "b = \"Hello, World!\"\n",
        "print(b[2:5])\n",
        "\n",
        "# Note: The first character has index 0."
      ],
      "metadata": {
        "colab": {
          "base_uri": "https://localhost:8080/"
        },
        "id": "epF8V6eJPST4",
        "outputId": "b2cf2bb2-9fb4-42ed-d307-044a0ec078b7"
      },
      "execution_count": 17,
      "outputs": [
        {
          "output_type": "stream",
          "name": "stdout",
          "text": [
            "llo\n"
          ]
        }
      ]
    },
    {
      "cell_type": "markdown",
      "source": [
        "## Slice From the Start"
      ],
      "metadata": {
        "id": "cZpvdSyiQPyk"
      }
    },
    {
      "cell_type": "code",
      "source": [
        "# By leaving out the start index, the range will start at the first character.\n",
        "\n",
        "# Get the characters from the start to position 5 (not included)\n",
        "b = \"Hello, World!\"\n",
        "print(b[:5])"
      ],
      "metadata": {
        "colab": {
          "base_uri": "https://localhost:8080/"
        },
        "id": "BXkuJcoSQGwT",
        "outputId": "96f99bfa-5b9f-4282-c1c1-bd5d1d486e6b"
      },
      "execution_count": 18,
      "outputs": [
        {
          "output_type": "stream",
          "name": "stdout",
          "text": [
            "Hello\n"
          ]
        }
      ]
    },
    {
      "cell_type": "markdown",
      "source": [
        "## Slice To the End"
      ],
      "metadata": {
        "id": "WIN9qHnqQwpk"
      }
    },
    {
      "cell_type": "code",
      "source": [
        "# By leaving out the end index, the range will go to the end.\n",
        "\n",
        "# Get the characters from position 2, and all the way to the end.\n",
        "b = \"Hello, World!\"\n",
        "print(b[2:])"
      ],
      "metadata": {
        "colab": {
          "base_uri": "https://localhost:8080/"
        },
        "id": "wLCs-A8tQt0O",
        "outputId": "e46fa8ed-188e-413b-cfa8-80b68a86d781"
      },
      "execution_count": 19,
      "outputs": [
        {
          "output_type": "stream",
          "name": "stdout",
          "text": [
            "llo, World!\n"
          ]
        }
      ]
    },
    {
      "cell_type": "markdown",
      "source": [
        "## Negative Indexing"
      ],
      "metadata": {
        "id": "yqZNNzjkRBRU"
      }
    },
    {
      "cell_type": "code",
      "source": [
        "# Use negative indexes to start the slice from the end of the string.\n",
        "\n",
        "# Get the characters:\n",
        "# From: \"o\" in \"World!\" (position -5) To \"d\" (but not included) in \"World!\" (position -2):\n",
        "\n",
        "b = \"Hello, World!\"\n",
        "print(b[-5:-2])"
      ],
      "metadata": {
        "colab": {
          "base_uri": "https://localhost:8080/"
        },
        "id": "hDffPotyQ6m2",
        "outputId": "1a458f05-902b-4934-8882-f670c3441a31"
      },
      "execution_count": 21,
      "outputs": [
        {
          "output_type": "stream",
          "name": "stdout",
          "text": [
            "orl\n"
          ]
        }
      ]
    },
    {
      "cell_type": "markdown",
      "source": [
        "# Modify Strings"
      ],
      "metadata": {
        "id": "VSw17FvbSWI2"
      }
    },
    {
      "cell_type": "code",
      "source": [
        "# Python has a set of built-in methods that we can use on strings."
      ],
      "metadata": {
        "id": "ZttCB8xoReun"
      },
      "execution_count": 22,
      "outputs": []
    },
    {
      "cell_type": "markdown",
      "source": [
        "## Upper Case"
      ],
      "metadata": {
        "id": "I3Nx7UmkSiV3"
      }
    },
    {
      "cell_type": "code",
      "source": [
        "# The upper() method returns the string in upper case.\n",
        "\n",
        "a = \"Hello, World!\"\n",
        "print(a.upper())"
      ],
      "metadata": {
        "colab": {
          "base_uri": "https://localhost:8080/"
        },
        "id": "iAhR2R7HSjYZ",
        "outputId": "9f70c3b1-ce17-4438-cf38-01ae29f21963"
      },
      "execution_count": 23,
      "outputs": [
        {
          "output_type": "stream",
          "name": "stdout",
          "text": [
            "HELLO, WORLD!\n"
          ]
        }
      ]
    },
    {
      "cell_type": "markdown",
      "source": [
        "## Lower Case"
      ],
      "metadata": {
        "id": "BQydbZ8KSyD2"
      }
    },
    {
      "cell_type": "code",
      "source": [
        "# The lower() method returns the string in lower case.\n",
        "\n",
        "a = \"Hello, World!\"\n",
        "print(a.lower())"
      ],
      "metadata": {
        "colab": {
          "base_uri": "https://localhost:8080/"
        },
        "id": "60VyAPftSuOt",
        "outputId": "ae4a3cec-95e7-4e58-b582-5136512ed25c"
      },
      "execution_count": 26,
      "outputs": [
        {
          "output_type": "stream",
          "name": "stdout",
          "text": [
            "hello, world!\n"
          ]
        }
      ]
    },
    {
      "cell_type": "markdown",
      "source": [
        "## Remove Whitespace"
      ],
      "metadata": {
        "id": "3HV_pgT3S9Ru"
      }
    },
    {
      "cell_type": "code",
      "source": [
        "# Whitespace is the space before and/or after the actual text, and very often you want to remove this space.\n",
        "\n",
        "# The strip() method removes any whitespace from the beginning or the end:\n",
        "a = \" Hello, World! \"\n",
        "print(a.strip()) # returns \"Hello, World!\""
      ],
      "metadata": {
        "colab": {
          "base_uri": "https://localhost:8080/"
        },
        "id": "KegReuxxS5_i",
        "outputId": "55d2b62f-015e-415c-91ee-993fd75d2448"
      },
      "execution_count": 27,
      "outputs": [
        {
          "output_type": "stream",
          "name": "stdout",
          "text": [
            "Hello, World!\n"
          ]
        }
      ]
    },
    {
      "cell_type": "markdown",
      "source": [
        "## Replace String"
      ],
      "metadata": {
        "id": "NlDhK5VWTUHS"
      }
    },
    {
      "cell_type": "code",
      "source": [
        "# The replace() method replaces a string with another string.\n",
        "\n",
        "a = \"Hello, World!\"\n",
        "print(a.replace(\"H\", \"J\"))"
      ],
      "metadata": {
        "colab": {
          "base_uri": "https://localhost:8080/"
        },
        "id": "4GPwWNrmTQxP",
        "outputId": "4c0b3129-18a1-470f-9c91-60e2d1752d6a"
      },
      "execution_count": 28,
      "outputs": [
        {
          "output_type": "stream",
          "name": "stdout",
          "text": [
            "Jello, World!\n"
          ]
        }
      ]
    },
    {
      "cell_type": "markdown",
      "source": [
        "## Split String"
      ],
      "metadata": {
        "id": "zALSgyOWTfxG"
      }
    },
    {
      "cell_type": "code",
      "source": [
        "# The split() method returns a list where the text between the specified separator becomes the list items.\n",
        "\n",
        "# The split() method splits the string into substrings if it finds instances of the separator.\n",
        "a = \"Hello, World!\"\n",
        "print(a.split(\",\"))"
      ],
      "metadata": {
        "colab": {
          "base_uri": "https://localhost:8080/"
        },
        "id": "vWS9k9FYTbfo",
        "outputId": "ef3d0a28-4f79-4871-9b9c-e97ea698a33a"
      },
      "execution_count": 29,
      "outputs": [
        {
          "output_type": "stream",
          "name": "stdout",
          "text": [
            "['Hello', ' World!']\n"
          ]
        }
      ]
    },
    {
      "cell_type": "markdown",
      "source": [
        "# String Concatenation"
      ],
      "metadata": {
        "id": "PqSXyEHeT9-C"
      }
    },
    {
      "cell_type": "code",
      "source": [
        "# To concatenate, or combine, two strings you can use the + operator.\n",
        "\n",
        "a = \"Hello\"\n",
        "b = \"World\"\n",
        "c = a + b\n",
        "print(c)"
      ],
      "metadata": {
        "colab": {
          "base_uri": "https://localhost:8080/"
        },
        "id": "n9PGiZHWT4pG",
        "outputId": "54cb6574-968a-4d58-875a-19b4f34c8b4f"
      },
      "execution_count": 30,
      "outputs": [
        {
          "output_type": "stream",
          "name": "stdout",
          "text": [
            "HelloWorld\n"
          ]
        }
      ]
    },
    {
      "cell_type": "code",
      "source": [
        "# To add a space between them, add a (\" \")\n",
        "\n",
        "a = \"Hello\"\n",
        "b = \"World\"\n",
        "c = a + \" \" + b\n",
        "print(c)\n",
        "\n"
      ],
      "metadata": {
        "colab": {
          "base_uri": "https://localhost:8080/"
        },
        "id": "K1iuj3PdUFhv",
        "outputId": "1227d985-0c7b-42cc-c2bf-7e50c1026096"
      },
      "execution_count": 32,
      "outputs": [
        {
          "output_type": "stream",
          "name": "stdout",
          "text": [
            "Hello World\n"
          ]
        }
      ]
    },
    {
      "cell_type": "markdown",
      "source": [
        "# Format - Strings"
      ],
      "metadata": {
        "id": "qJi2FVdSUWbG"
      }
    },
    {
      "cell_type": "code",
      "source": [
        "# we cannot combine strings and numbers like this.\n",
        "\n",
        "age = 36\n",
        "txt = \"My name is John, I am \" + age\n",
        "print(txt)"
      ],
      "metadata": {
        "colab": {
          "base_uri": "https://localhost:8080/",
          "height": 193
        },
        "id": "W1pjZC_HURLe",
        "outputId": "deca995f-a41b-4e78-e18e-1dc6e58ded9d"
      },
      "execution_count": 33,
      "outputs": [
        {
          "output_type": "error",
          "ename": "TypeError",
          "evalue": "can only concatenate str (not \"int\") to str",
          "traceback": [
            "\u001b[0;31m---------------------------------------------------------------------------\u001b[0m",
            "\u001b[0;31mTypeError\u001b[0m                                 Traceback (most recent call last)",
            "\u001b[0;32m<ipython-input-33-1c458699e827>\u001b[0m in \u001b[0;36m<cell line: 0>\u001b[0;34m()\u001b[0m\n\u001b[1;32m      2\u001b[0m \u001b[0;34m\u001b[0m\u001b[0m\n\u001b[1;32m      3\u001b[0m \u001b[0mage\u001b[0m \u001b[0;34m=\u001b[0m \u001b[0;36m36\u001b[0m\u001b[0;34m\u001b[0m\u001b[0;34m\u001b[0m\u001b[0m\n\u001b[0;32m----> 4\u001b[0;31m \u001b[0mtxt\u001b[0m \u001b[0;34m=\u001b[0m \u001b[0;34m\"My name is John, I am \"\u001b[0m \u001b[0;34m+\u001b[0m \u001b[0mage\u001b[0m\u001b[0;34m\u001b[0m\u001b[0;34m\u001b[0m\u001b[0m\n\u001b[0m\u001b[1;32m      5\u001b[0m \u001b[0mprint\u001b[0m\u001b[0;34m(\u001b[0m\u001b[0mtxt\u001b[0m\u001b[0;34m)\u001b[0m\u001b[0;34m\u001b[0m\u001b[0;34m\u001b[0m\u001b[0m\n",
            "\u001b[0;31mTypeError\u001b[0m: can only concatenate str (not \"int\") to str"
          ]
        }
      ]
    },
    {
      "cell_type": "code",
      "source": [
        "# But we can combine strings and numbers by using f-strings or the format() method!\n",
        "\n",
        "# To specify a string as an f-string, simply put an f in front of the string. Add curly brackets {} as placeholders for variables and other operations.\n",
        "\n",
        "age = 36\n",
        "txt = f\"My name is John, I am {age}\"\n",
        "print(txt)"
      ],
      "metadata": {
        "colab": {
          "base_uri": "https://localhost:8080/"
        },
        "id": "Jq6bNrvUUeIt",
        "outputId": "12603d65-f345-4aad-f900-f0d1f277cb46"
      },
      "execution_count": 39,
      "outputs": [
        {
          "output_type": "stream",
          "name": "stdout",
          "text": [
            "My name is John, I am 36\n"
          ]
        }
      ]
    },
    {
      "cell_type": "markdown",
      "source": [
        "## Placeholders and Modifiers"
      ],
      "metadata": {
        "id": "MBmd3zDNU-ls"
      }
    },
    {
      "cell_type": "code",
      "source": [
        "# A placeholder can contain variables, operations, functions, and modifiers to format the value.\n",
        "\n",
        "price = 59\n",
        "txt = f\"The price is {price} dollars\"\n",
        "print(txt)"
      ],
      "metadata": {
        "colab": {
          "base_uri": "https://localhost:8080/"
        },
        "id": "mKq3Equ3U5jV",
        "outputId": "89ead14e-ae45-4980-f7ad-ccf0562ef950"
      },
      "execution_count": 36,
      "outputs": [
        {
          "output_type": "stream",
          "name": "stdout",
          "text": [
            "The price is 59 dollars\n"
          ]
        }
      ]
    },
    {
      "cell_type": "code",
      "source": [
        "# A placeholder can include a modifier to format the value.\n",
        "# A modifier is included by adding a colon : followed by a legal formatting type, like .2f which means fixed point number with 2 decimals.\n",
        "\n",
        "price = 59\n",
        "txt = f\"The price is {price:.2f} dollars\"\n",
        "print(txt)"
      ],
      "metadata": {
        "colab": {
          "base_uri": "https://localhost:8080/"
        },
        "id": "bLYticZnVO4e",
        "outputId": "69487b0d-5b29-489d-d7c1-e38642957cef"
      },
      "execution_count": 37,
      "outputs": [
        {
          "output_type": "stream",
          "name": "stdout",
          "text": [
            "The price is 59.00 dollars\n"
          ]
        }
      ]
    },
    {
      "cell_type": "code",
      "source": [
        "# A placeholder can contain Python code, like math operations.\n",
        "\n",
        "txt = f\"The price is {20 * 59} dollars\"\n",
        "print(txt)"
      ],
      "metadata": {
        "colab": {
          "base_uri": "https://localhost:8080/"
        },
        "id": "JpW0WyJIVrgC",
        "outputId": "af46018c-a114-4f35-a0a7-f75b605bd2ca"
      },
      "execution_count": 38,
      "outputs": [
        {
          "output_type": "stream",
          "name": "stdout",
          "text": [
            "The price is 1180 dollars\n"
          ]
        }
      ]
    },
    {
      "cell_type": "markdown",
      "source": [
        "# Escape Characters"
      ],
      "metadata": {
        "id": "ZQouk1fyWHMn"
      }
    },
    {
      "cell_type": "code",
      "source": [
        "# To insert characters that are illegal in a string, use an escape character.\n",
        "# An escape character is a backslash \\ followed by the character you want to insert."
      ],
      "metadata": {
        "id": "WPIm_yTgWBeS"
      },
      "execution_count": 40,
      "outputs": []
    },
    {
      "cell_type": "code",
      "source": [
        "# We will get an error if you use double quotes inside a string that is surrounded by double quotes.\n",
        "\n",
        "txt = \"We are the so-called \"Vikings\" from the north.\""
      ],
      "metadata": {
        "colab": {
          "base_uri": "https://localhost:8080/",
          "height": 106
        },
        "id": "SswQm0mwW2Ps",
        "outputId": "49283004-dbc4-4e2b-9050-4d5748a9fdd2"
      },
      "execution_count": 41,
      "outputs": [
        {
          "output_type": "error",
          "ename": "SyntaxError",
          "evalue": "invalid syntax (<ipython-input-41-7f0bc10143ae>, line 3)",
          "traceback": [
            "\u001b[0;36m  File \u001b[0;32m\"<ipython-input-41-7f0bc10143ae>\"\u001b[0;36m, line \u001b[0;32m3\u001b[0m\n\u001b[0;31m    txt = \"We are the so-called \"Vikings\" from the north.\"\u001b[0m\n\u001b[0m                                 ^\u001b[0m\n\u001b[0;31mSyntaxError\u001b[0m\u001b[0;31m:\u001b[0m invalid syntax\n"
          ]
        }
      ]
    },
    {
      "cell_type": "code",
      "source": [
        "# The escape character allows you to use double quotes when you normally would not be allowed\n",
        "\n",
        "txt = \"We are the so-called \\\"Vikings\\\" from the north.\"\n",
        "print(txt)"
      ],
      "metadata": {
        "colab": {
          "base_uri": "https://localhost:8080/"
        },
        "id": "CZvYG0ZGW7qt",
        "outputId": "1bebdcfa-0a74-4252-83fb-a90937b04c6b"
      },
      "execution_count": 43,
      "outputs": [
        {
          "output_type": "stream",
          "name": "stdout",
          "text": [
            "We are the so-called \"Vikings\" from the north.\n"
          ]
        }
      ]
    },
    {
      "cell_type": "code",
      "source": [
        "# Escape characters used in Python\n",
        "\n",
        "\n",
        "# Code\t       Result\n",
        "\n",
        "# \\'\t         Single Quote\n",
        "# \\\\\t         Backslash\n",
        "# \\n\t         New Line\n",
        "# \\r\t         Carriage Return\n",
        "# \\t\t         Tab\n",
        "# \\b\t         Backspace\n",
        "# \\f\t         Form Feed\n",
        "# \\ooo\t       Octal value\n",
        "# \\xhh\t       Hex value"
      ],
      "metadata": {
        "id": "sjKgtIrKXEEn"
      },
      "execution_count": 44,
      "outputs": []
    },
    {
      "cell_type": "code",
      "source": [
        "txt = 'It\\'s alright.'\n",
        "print(txt)"
      ],
      "metadata": {
        "colab": {
          "base_uri": "https://localhost:8080/"
        },
        "id": "byOopL-GXjTd",
        "outputId": "efc4a51c-143f-4adf-91a9-db5ad1bfeb61"
      },
      "execution_count": 45,
      "outputs": [
        {
          "output_type": "stream",
          "name": "stdout",
          "text": [
            "It's alright.\n"
          ]
        }
      ]
    },
    {
      "cell_type": "code",
      "source": [
        "txt = \"This will insert one \\\\ (backslash).\"\n",
        "print(txt)"
      ],
      "metadata": {
        "colab": {
          "base_uri": "https://localhost:8080/"
        },
        "id": "Eg4FyrhYXxE6",
        "outputId": "9e5ab33b-00bd-47e9-ef95-9d008ee355b0"
      },
      "execution_count": 46,
      "outputs": [
        {
          "output_type": "stream",
          "name": "stdout",
          "text": [
            "This will insert one \\ (backslash).\n"
          ]
        }
      ]
    },
    {
      "cell_type": "code",
      "source": [
        "txt = \"Hello\\nWorld!\"\n",
        "print(txt)"
      ],
      "metadata": {
        "colab": {
          "base_uri": "https://localhost:8080/"
        },
        "id": "0KPSKL86X1Df",
        "outputId": "c4dfbb40-2a8a-4b36-99e4-d3ff889390eb"
      },
      "execution_count": 47,
      "outputs": [
        {
          "output_type": "stream",
          "name": "stdout",
          "text": [
            "Hello\n",
            "World!\n"
          ]
        }
      ]
    },
    {
      "cell_type": "code",
      "source": [
        "txt = \"Hello\\rWorld!\"\n",
        "print(txt)"
      ],
      "metadata": {
        "colab": {
          "base_uri": "https://localhost:8080/"
        },
        "id": "nd3VjJZyX859",
        "outputId": "412675fa-e9a3-4a42-f627-83133ef8099b"
      },
      "execution_count": 48,
      "outputs": [
        {
          "output_type": "stream",
          "name": "stdout",
          "text": [
            "Hello\rWorld!\n"
          ]
        }
      ]
    },
    {
      "cell_type": "code",
      "source": [
        "txt = \"Hello\\tWorld!\"\n",
        "print(txt)"
      ],
      "metadata": {
        "colab": {
          "base_uri": "https://localhost:8080/"
        },
        "id": "N08eQv69YCKr",
        "outputId": "93859090-ba4f-4879-882a-e91a1d23b1a5"
      },
      "execution_count": 49,
      "outputs": [
        {
          "output_type": "stream",
          "name": "stdout",
          "text": [
            "Hello\tWorld!\n"
          ]
        }
      ]
    },
    {
      "cell_type": "code",
      "source": [
        "txt = \"Hello \\bWorld!\"\n",
        "print(txt)"
      ],
      "metadata": {
        "colab": {
          "base_uri": "https://localhost:8080/"
        },
        "id": "_VNwQmMrYP1B",
        "outputId": "7870770a-01cb-4eff-c53f-68a278741944"
      },
      "execution_count": 50,
      "outputs": [
        {
          "output_type": "stream",
          "name": "stdout",
          "text": [
            "Hello \bWorld!\n"
          ]
        }
      ]
    },
    {
      "cell_type": "code",
      "source": [
        "# A backslash followed by three integers will result in a octal value\n",
        "\n",
        "txt = \"\\110\\145\\154\\154\\157\"\n",
        "print(txt)"
      ],
      "metadata": {
        "colab": {
          "base_uri": "https://localhost:8080/"
        },
        "id": "Lwdaid25YTaB",
        "outputId": "f8cf5c86-932d-4cb3-bf1f-633ad2370820"
      },
      "execution_count": 51,
      "outputs": [
        {
          "output_type": "stream",
          "name": "stdout",
          "text": [
            "Hello\n"
          ]
        }
      ]
    },
    {
      "cell_type": "code",
      "source": [
        "# A backslash followed by an 'x' and a hex number represents a hex value\n",
        "\n",
        "txt = \"\\x48\\x65\\x6c\\x6c\\x6f\"\n",
        "print(txt)"
      ],
      "metadata": {
        "colab": {
          "base_uri": "https://localhost:8080/"
        },
        "id": "p9jzYxIcYZaq",
        "outputId": "9588d13f-57ef-47d2-f578-2b05ec90e7fa"
      },
      "execution_count": 52,
      "outputs": [
        {
          "output_type": "stream",
          "name": "stdout",
          "text": [
            "Hello\n"
          ]
        }
      ]
    }
  ]
}