{
  "nbformat": 4,
  "nbformat_minor": 0,
  "metadata": {
    "colab": {
      "provenance": [],
      "authorship_tag": "ABX9TyOcu9/YTaonWTk3r+7snbJi",
      "include_colab_link": true
    },
    "kernelspec": {
      "name": "python3",
      "display_name": "Python 3"
    },
    "language_info": {
      "name": "python"
    }
  },
  "cells": [
    {
      "cell_type": "markdown",
      "metadata": {
        "id": "view-in-github",
        "colab_type": "text"
      },
      "source": [
        "<a href=\"https://colab.research.google.com/github/ahsanrazi/W3_Python/blob/main/08_Booleans.ipynb\" target=\"_parent\"><img src=\"https://colab.research.google.com/assets/colab-badge.svg\" alt=\"Open In Colab\"/></a>"
      ]
    },
    {
      "cell_type": "markdown",
      "source": [
        "# Python Booleans"
      ],
      "metadata": {
        "id": "3Y7KMJ3omT4k"
      }
    },
    {
      "cell_type": "code",
      "execution_count": 1,
      "metadata": {
        "id": "pwr0ioQ2mHmG"
      },
      "outputs": [],
      "source": [
        "# Booleans represent one of two values: True or False."
      ]
    },
    {
      "cell_type": "markdown",
      "source": [
        "# Boolean Values"
      ],
      "metadata": {
        "id": "2b7Wj-RcmlRm"
      }
    },
    {
      "cell_type": "code",
      "source": [
        "# In programming you often need to know if an expression is True or False.\n",
        "# We can evaluate any expression in Python, and get one of two answers, True or False."
      ],
      "metadata": {
        "id": "uX1CvQo7mY1q"
      },
      "execution_count": 3,
      "outputs": []
    },
    {
      "cell_type": "code",
      "source": [
        "# When we compare two values, the expression is evaluated and Python returns the Boolean answer\n",
        "print(10 > 9)\n",
        "print(10 == 9)\n",
        "print(10 < 9)"
      ],
      "metadata": {
        "colab": {
          "base_uri": "https://localhost:8080/"
        },
        "id": "i8h4Hejxmq7i",
        "outputId": "272e1d3c-87a6-4a7a-cc84-76c438239f40"
      },
      "execution_count": 4,
      "outputs": [
        {
          "output_type": "stream",
          "name": "stdout",
          "text": [
            "True\n",
            "False\n",
            "False\n"
          ]
        }
      ]
    },
    {
      "cell_type": "code",
      "source": [
        "# When we run a condition in an if statement, Python returns True or False\n",
        "\n",
        "a = 200\n",
        "b = 33\n",
        "\n",
        "if b > a:\n",
        "  print(\"b is greater than a\")\n",
        "else:\n",
        "  print(\"b is not greater than a\")"
      ],
      "metadata": {
        "colab": {
          "base_uri": "https://localhost:8080/"
        },
        "id": "2WIBhLPfnGlZ",
        "outputId": "88cc44a0-8d93-4e7b-f2e0-36e09d4e9aff"
      },
      "execution_count": 5,
      "outputs": [
        {
          "output_type": "stream",
          "name": "stdout",
          "text": [
            "b is not greater than a\n"
          ]
        }
      ]
    },
    {
      "cell_type": "markdown",
      "source": [
        "# Evaluate Values and Variables"
      ],
      "metadata": {
        "id": "7U1KswEZnslB"
      }
    },
    {
      "cell_type": "code",
      "source": [
        "# The bool() function allows us to evaluate any value, and give us True or False in return.\n",
        "\n",
        "# Evaluate a string and a number\n",
        "print(bool(\"Hello\"))\n",
        "print(bool(45))"
      ],
      "metadata": {
        "colab": {
          "base_uri": "https://localhost:8080/"
        },
        "id": "Yt-QImVAnasj",
        "outputId": "2678c928-085f-4f8f-f7a7-89fbede36ecf"
      },
      "execution_count": 9,
      "outputs": [
        {
          "output_type": "stream",
          "name": "stdout",
          "text": [
            "True\n",
            "True\n"
          ]
        }
      ]
    },
    {
      "cell_type": "code",
      "source": [
        "# Evaluate two variables\n",
        "\n",
        "x = \"Hello\"\n",
        "y = 15\n",
        "\n",
        "print(bool(x))\n",
        "print(bool(y))"
      ],
      "metadata": {
        "colab": {
          "base_uri": "https://localhost:8080/"
        },
        "id": "kY9Eos76n3b7",
        "outputId": "9a7003c2-3b88-4c2b-8003-8c39ab0a7227"
      },
      "execution_count": 12,
      "outputs": [
        {
          "output_type": "stream",
          "name": "stdout",
          "text": [
            "True\n",
            "True\n"
          ]
        }
      ]
    },
    {
      "cell_type": "markdown",
      "source": [
        "# Most Values are True"
      ],
      "metadata": {
        "id": "cw1KJOJGoYbO"
      }
    },
    {
      "cell_type": "code",
      "source": [
        "# Almost any value is evaluated to True if it has some sort of content.\n",
        "\n",
        "# Any string is True, except empty strings.\n",
        "# Any number is True, except 0.\n",
        "# Any list, tuple, set, and dictionary are True, except empty ones.\n",
        "\n",
        "# The following will return True\n",
        "bool(\"abc\")\n",
        "bool(123)\n",
        "bool([\"apple\", \"cherry\", \"banana\"])"
      ],
      "metadata": {
        "colab": {
          "base_uri": "https://localhost:8080/"
        },
        "id": "IoWvAxNVoRS5",
        "outputId": "14fa88bd-adaa-4325-b0df-5cea13d012b3"
      },
      "execution_count": 13,
      "outputs": [
        {
          "output_type": "execute_result",
          "data": {
            "text/plain": [
              "True"
            ]
          },
          "metadata": {},
          "execution_count": 13
        }
      ]
    },
    {
      "cell_type": "markdown",
      "source": [
        "# Some Values are False"
      ],
      "metadata": {
        "id": "3CKOZ6VFouWd"
      }
    },
    {
      "cell_type": "code",
      "source": [
        "# In fact, there are not many values that evaluate to False, except empty values, such as (), [], {}, \"\", the number 0, and the value None.\n",
        "# And of course the value False evaluates to False.\n",
        "\n",
        "# The following will return False\n",
        "bool(False)\n",
        "bool(None)\n",
        "bool(0)\n",
        "bool(\"\")\n",
        "bool(())\n",
        "bool([])\n",
        "bool({})"
      ],
      "metadata": {
        "colab": {
          "base_uri": "https://localhost:8080/"
        },
        "id": "otNimogjopNF",
        "outputId": "5ec48454-ed6a-4593-d534-5b85dfd6fa7e"
      },
      "execution_count": 14,
      "outputs": [
        {
          "output_type": "execute_result",
          "data": {
            "text/plain": [
              "False"
            ]
          },
          "metadata": {},
          "execution_count": 14
        }
      ]
    },
    {
      "cell_type": "code",
      "source": [
        "# One more value, or object in this case, evaluates to False, and that is if you have an object that is made from a class with a __len__ function\n",
        "# that returns 0 or False\n",
        "\n",
        "class myclass():\n",
        "  def __len__(self):\n",
        "    return 0\n",
        "\n",
        "myobj = myclass()\n",
        "print(bool(myobj))"
      ],
      "metadata": {
        "colab": {
          "base_uri": "https://localhost:8080/"
        },
        "id": "_RydEwatpLZf",
        "outputId": "8c8b1b0e-2d7d-4e6c-972a-249092cea087"
      },
      "execution_count": 15,
      "outputs": [
        {
          "output_type": "stream",
          "name": "stdout",
          "text": [
            "False\n"
          ]
        }
      ]
    },
    {
      "cell_type": "markdown",
      "source": [
        "# Functions can Return a Boolean"
      ],
      "metadata": {
        "id": "21nzf6txpzV7"
      }
    },
    {
      "cell_type": "code",
      "source": [
        "# We can create functions that returns a Boolean Value\n",
        "\n",
        "def myFunction() :\n",
        "  return True\n",
        "\n",
        "print(myFunction())"
      ],
      "metadata": {
        "colab": {
          "base_uri": "https://localhost:8080/"
        },
        "id": "J87bkUjxprwb",
        "outputId": "d196c8f2-3e6e-4bb8-9fd0-10bb4df79fae"
      },
      "execution_count": 16,
      "outputs": [
        {
          "output_type": "stream",
          "name": "stdout",
          "text": [
            "True\n"
          ]
        }
      ]
    },
    {
      "cell_type": "code",
      "source": [
        "# We can execute code based on the Boolean answer of a function\n",
        "\n",
        "# Print \"YES!\" if the function returns True, otherwise print \"NO!\"\n",
        "def myFunction() :\n",
        "  return True\n",
        "\n",
        "if myFunction():\n",
        "  print(\"YES!\")\n",
        "else:\n",
        "  print(\"NO!\")"
      ],
      "metadata": {
        "colab": {
          "base_uri": "https://localhost:8080/"
        },
        "id": "pRycS-Nip_o3",
        "outputId": "bfbf7bd8-9822-47ce-f737-8cec5ec062e3"
      },
      "execution_count": 17,
      "outputs": [
        {
          "output_type": "stream",
          "name": "stdout",
          "text": [
            "YES!\n"
          ]
        }
      ]
    },
    {
      "cell_type": "code",
      "source": [
        "# Python also has many built-in functions that return a boolean value, like the isinstance() function\n",
        "# which can be used to determine if an object is of a certain data type.\n",
        "\n",
        "# Check if an object is an integer or not\n",
        "x = 200\n",
        "print(isinstance(x, int))"
      ],
      "metadata": {
        "colab": {
          "base_uri": "https://localhost:8080/"
        },
        "id": "xfXQSqpnqR1H",
        "outputId": "fe28c4a6-03f8-4ec6-d7d5-f135e5293eb9"
      },
      "execution_count": 18,
      "outputs": [
        {
          "output_type": "stream",
          "name": "stdout",
          "text": [
            "True\n"
          ]
        }
      ]
    }
  ]
}