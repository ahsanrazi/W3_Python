{
  "nbformat": 4,
  "nbformat_minor": 0,
  "metadata": {
    "colab": {
      "provenance": [],
      "authorship_tag": "ABX9TyNsVcSP3Dz+WSSpUb6t+XUG",
      "include_colab_link": true
    },
    "kernelspec": {
      "name": "python3",
      "display_name": "Python 3"
    },
    "language_info": {
      "name": "python"
    }
  },
  "cells": [
    {
      "cell_type": "markdown",
      "metadata": {
        "id": "view-in-github",
        "colab_type": "text"
      },
      "source": [
        "<a href=\"https://colab.research.google.com/github/ahsanrazi/W3_Python/blob/main/02_Comments.ipynb\" target=\"_parent\"><img src=\"https://colab.research.google.com/assets/colab-badge.svg\" alt=\"Open In Colab\"/></a>"
      ]
    },
    {
      "cell_type": "markdown",
      "source": [
        "# Comments"
      ],
      "metadata": {
        "id": "pQb_n8LMRxyZ"
      }
    },
    {
      "cell_type": "code",
      "execution_count": 2,
      "metadata": {
        "id": "DxPbghZVRZXl"
      },
      "outputs": [],
      "source": [
        "# Comments can be used to explain Python code.\n",
        "# Comments can be used to make the code more readable.\n",
        "# Comments can be used to prevent execution when testing code."
      ]
    },
    {
      "cell_type": "code",
      "source": [
        "# Comments starts with a (#) and Python will ignore them.\n",
        "\n",
        "#This is a comment\n",
        "print(\"Hello, World!\")"
      ],
      "metadata": {
        "colab": {
          "base_uri": "https://localhost:8080/"
        },
        "id": "kKwQTzY2RqMs",
        "outputId": "c3c17db5-8e7d-4110-f113-36710fd16803"
      },
      "execution_count": 3,
      "outputs": [
        {
          "output_type": "stream",
          "name": "stdout",
          "text": [
            "Hello, World!\n"
          ]
        }
      ]
    },
    {
      "cell_type": "code",
      "source": [
        "# Comments can be placed at the end of a line, and Python will ignore the rest of the line.\n",
        "\n",
        "print(\"Hello, World!\") #This is a comment"
      ],
      "metadata": {
        "colab": {
          "base_uri": "https://localhost:8080/"
        },
        "id": "pjROEfpIScud",
        "outputId": "3fbd23f3-428f-4620-ace4-3a998977e784"
      },
      "execution_count": 5,
      "outputs": [
        {
          "output_type": "stream",
          "name": "stdout",
          "text": [
            "Hello, World!\n"
          ]
        }
      ]
    },
    {
      "cell_type": "code",
      "source": [
        "# A comment does not have to be text that explains the code, it can also be used to prevent Python from executing code.\n",
        "\n",
        "# print(\"Hello, World!\")\n",
        "print(\"Cheers, Mate!\")"
      ],
      "metadata": {
        "colab": {
          "base_uri": "https://localhost:8080/"
        },
        "id": "L32stGV7Sgn0",
        "outputId": "cc95db25-1593-4e12-c874-16626ca7270e"
      },
      "execution_count": 6,
      "outputs": [
        {
          "output_type": "stream",
          "name": "stdout",
          "text": [
            "Cheers, Mate!\n"
          ]
        }
      ]
    },
    {
      "cell_type": "markdown",
      "source": [
        "# Multiline Comments"
      ],
      "metadata": {
        "id": "OzeX0FujTJXB"
      }
    },
    {
      "cell_type": "code",
      "source": [
        "# Python does not really have a syntax for multiline comments.\n",
        "# To add a multiline comment you could insert a (#) for each line.\n",
        "\n",
        "#This is a comment\n",
        "#written in\n",
        "#more than just one line\n",
        "print(\"Hello, World!\")"
      ],
      "metadata": {
        "colab": {
          "base_uri": "https://localhost:8080/"
        },
        "id": "dHCMd5X6Srak",
        "outputId": "e366d7b8-b0bd-40e9-c556-ebae7cbe25f0"
      },
      "execution_count": 7,
      "outputs": [
        {
          "output_type": "stream",
          "name": "stdout",
          "text": [
            "Hello, World!\n"
          ]
        }
      ]
    },
    {
      "cell_type": "code",
      "source": [
        "# Or we can use a multiline string.\n",
        "# Python will ignore string literals that are not assigned to a variable, we can add a multiline string (triple quotes) in your code.\n",
        "\n",
        "\"\"\"\n",
        "This is a comment\n",
        "written in\n",
        "more than just one line\n",
        "\"\"\"\n",
        "print(\"Hello, World!\")"
      ],
      "metadata": {
        "colab": {
          "base_uri": "https://localhost:8080/"
        },
        "id": "PoFLRdI0S87O",
        "outputId": "db066e92-856f-4af4-f761-77070acbb71b"
      },
      "execution_count": 8,
      "outputs": [
        {
          "output_type": "stream",
          "name": "stdout",
          "text": [
            "Hello, World!\n"
          ]
        }
      ]
    }
  ]
}